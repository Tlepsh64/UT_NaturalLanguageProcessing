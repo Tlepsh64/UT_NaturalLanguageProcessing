{
 "cells": [
  {
   "cell_type": "markdown",
   "metadata": {
    "id": "C1bYLpPHc2Ri"
   },
   "source": [
    "# Homework 3: Word Embeddings\n",
    "\n",
    "Welcome to homework 3! \n",
    "\n",
    "The homework contains several tasks. You can find the amount of points you get for the correct solution in the task header. Maximum amount of points for each homework is 7 + 1 (bonus exercise). \n",
    "The **grading** for each task is the following: \n",
    "* correct answer - **full points** \n",
    "* insufficient solution or solution resulting in the incorrect output - **half points**\n",
    "* no answer or completely wrong solution - **no points**\n",
    "\n",
    "Even if you don't know how to solve the task, we encourage you to write down your thoughts and progress and try to address the issues that stop you from completing the task.\n",
    "\n",
    "When working on the written tasks, try to make your answers short and accurate. Most of the times, it is possible to answer the question in 1-3 sentences.\n",
    "\n",
    "When writing code, make it readable. Choose appropriate names for your variables (a = 'cat' - not good, word = 'cat' - good). Avoid constructing lines of code longer than 100 characters (79 characters is ideal). If needed, provide the commentaries for your code, however, a good code should be easily readable without them :)\n",
    "\n",
    "Finally, all your answers should be written only by yourself. If you copy them from other sources it will be considered as an academic fraud. You can discuss the tasks with your classmates but each solution must be individual.\n",
    "\n",
    "\n",
    "\n",
    "**Before sending your solution, do the Kernel -> Restart & Run All to ensure that all your code works.**"
   ]
  },
  {
   "cell_type": "markdown",
   "metadata": {
    "id": "HhgPZ8Vfh3YK"
   },
   "source": [
    "## More than a word\n",
    "So far, we studied how we can represent separate words as dense vectors, also called embeddings. But what if we need to find similar documents? How do we represent a whole document, that can have thousands of words as a vector?\n",
    "\n",
    "In this homework, you will learn and try different techniques of document representation.\n",
    "\n",
    "But first, let's start with imports. In this homework, you are going to use [Gensim](https://radimrehurek.com/gensim/) library. The installation should not cause any troubles. However, **install Cython before installing Gensim!** This will allow Gensim to use efficient calculations and reduce the training time from several minutes to several seconds. Thus, the installation procedure should be the following:\n",
    "\n",
    "pip install Cython\n",
    "\n",
    "pip install gensim"
   ]
  },
  {
   "cell_type": "code",
   "execution_count": 34,
   "metadata": {
    "id": "3IpAPSObcqtc"
   },
   "outputs": [],
   "source": [
    "import csv\n",
    "from pathlib import Path\n",
    "from collections import namedtuple, Counter\n",
    "import numpy as np\n",
    "\n",
    "from gensim.models.doc2vec import Doc2Vec, TaggedDocument\n",
    "\n",
    "import spacy\n",
    "nlp = spacy.load('en_core_web_sm')"
   ]
  },
  {
   "cell_type": "markdown",
   "metadata": {
    "id": "ZlYoHDt9Yd0p"
   },
   "source": [
    "## Task 0: Data\n",
    "\n",
    "Load the data and get familiar with its structure. We provided all the functions for loading the dataset.\n",
    "\n",
    "The data is a compilation of movie plot synopses from IMDb and Wikipedia. You can find the original data here, as well as the paper describing it: Kar, S., Maharjan, S., López-Monroy, A. P., & Solorio, T. (2018). MPST: A corpus of movie plot synopses with tags. arXiv preprint arXiv:1802.07858..\n",
    "\n",
    "The data was modified as follows: only title, plot_synopsis, tags, and split colums were left. All the synopses were tokenize, lemmatized, cleared from the stop words with Spacy. Final data was reduced to 1000 training samples and 500 test samples.\n",
    "\n",
    "Run the cells below to load the data and see an example of the first training sample:"
   ]
  },
  {
   "cell_type": "code",
   "execution_count": 35,
   "metadata": {
    "id": "s0dochrGaUaA"
   },
   "outputs": [],
   "source": [
    "MovieInfo = namedtuple('MovieInfo', ['title', 'synopsis_preprocessed', 'synopsis_original', 'tags'])\n",
    "\n",
    "data_path = Path('movie_plots.csv')\n",
    "\n",
    "train_set, test_set = [], []\n",
    "\n",
    "with data_path.open(encoding='utf-8', newline='') as csvfile:\n",
    "    reader = csv.DictReader(csvfile)\n",
    "    for row in reader:\n",
    "\n",
    "        tags = [tag.strip() for tag in row['tags'].split(',')]\n",
    "        movie_info = MovieInfo(\n",
    "            row['title'], row['synopsis_preprocessed'], row['synopsis_original'], tags\n",
    "        )\n",
    "        if row['split'] == 'train':\n",
    "            train_set.append(movie_info)\n",
    "        elif row['split'] == 'test':\n",
    "            test_set.append(movie_info)"
   ]
  },
  {
   "cell_type": "code",
   "execution_count": 36,
   "metadata": {
    "id": "R5B0mfV2Yncd"
   },
   "outputs": [
    {
     "name": "stdout",
     "output_type": "stream",
     "text": [
      "Train set has 1000 entries\n",
      "Test set has 500 entries\n"
     ]
    }
   ],
   "source": [
    "print(f\"Train set has {len(train_set)} entries\")\n",
    "print(f\"Test set has {len(test_set)} entries\")"
   ]
  },
  {
   "cell_type": "code",
   "execution_count": 37,
   "metadata": {
    "id": "scHF-liqYoPp"
   },
   "outputs": [
    {
     "name": "stdout",
     "output_type": "stream",
     "text": [
      "Movie info example\n",
      "--------------------------------------------------\n",
      "Title:\n",
      "I tre volti della paura\n",
      "--------------------------------------------------\n",
      "Preprocessed synopsis:\n",
      "note synopsis orginal italian release segment certain order boris karloff introduce horror tale macabre supernatural know faces fear' telephonerosy michele mercier attractive high price parisian girl return spacious basement apartment evening immediately get beset series strange phone call caller soon identify frank ex pimp recently escape prison rosy terrified testimony land man jail look solace rosy phone lesbian lover mary lynda alfonsi woman estrange time rosy certain help mary agree come night second later frank call promise matter call protection revenge unknown rosy mary caller impersonate frank marry arrive rosy apartment soon good calm rosy nerve give panic strike woman tranquillizer put bed later night rosy sleep mary get bed pen note confession make strange phone call learn franks escape prison know rosy help explain feel way come life breakup busy write fail notice intruder apartment time frank real creep mary strangle death rosys nylon stocking sound struggle awaken rosy gasp fright murderous pimp realize kill wrong woman slowly make way rosy bed earlier night rosy place butcher knife pillow mary suggestion rosy seize knife stab frank begin strangle rosy drop knife break hysteria surround corpse lover wurdalakin 19th century russia vladimir d'urfe young nobleman long trip course journey find behead corpse knife plunge heart withdraw blade take souvenir later night vladimir stop small rural cottage ask shelter notice dagger hang wall vacant space happen fit discover vladimir surprise entrance giorgio glauco onorato explain knife belong father see day giorgio offer room young count subsequently introduce rest family wife rika dialina young son ivan giorgio young brother pietro massimo righi sister sdenka susy anderson subsequently transpire eagerly anticipate arrival father gorcha reason absence go battle outlaw dread wurdalak ali beg vladimir confuse term sdenka explain wurdalak walk cadaver feed blood living preferably close friend family member giorgio pietro certain corpse vladimir discover ali beg realize strong possibility father infect blood curse warn count leave decide stay await old mans return stroke midnight gorcha boris karloff return cottage sour demeanor unkempt appearance bode bad brother tear realize duty kill gorcha feed family love make difficult reach decision later night ivan pietro attack gorcha drain blood flee cottage giorgio stake behead pietro prevent revive wurdalak prevent ivan wife threaten commit suicide reluntantly agree bury child take necessary precaution night child rise grave beg invite cottage mother run son aid stab giorgio attempt stop greet door gorcha old man bit infect daughter law husband vladimir sdenka flee cottage run hide ruin abandon cathedral dawn break vladimir optimistic long happy life lie sdenka reluctant relinquish family tie believe mean stay family sdenka fear family confirm evening gorcha sibling abandon abby vladimir sleep sdenka lure love arm bite death awaken scream vladimir rush aid family take home force lover follow suite young nobleman find lie motionless bed sdenka awaken distinct change visible face longer caring vladimir embrace bite infect drop waterin victorian london england nurse helen chester jacqueline pierreux call large house prepare corpse elderly medium burial dress body notice elaborate diamond ring finger tempt greed nurse chester steal glass tip drop water begin splash floor assail fly doubt attract odor body unsettle pleased acquisition finish job return home small east end flat return home nurse chester assail strange event buzzing fly return continue pester light apartment sound dripping water continue maddening regularity see old womans corpse lie bed come terrified woman beg forgiveness ultimately strangle image medium hand grip throat morning concierge harriet white medin discover nurse chester body call police investigator scene gustavo de nardo quickly conclude simple case nurse chester die fright pathologist arrive scene examine body take away note sign violence small bruise left finger likely cause pry ring finger doctor make observation concierge appear distressed apparently take ring dead nurse chester distract sound fly swoop air boris karloff make final appearance gorcha ride horse conclude tale fear tell viewer careful walk home night ghost vampire fear image pull actually reveal sit prop fake horse camera crew crewman move branch simulate scene ride forest wurdalak segment\n",
      "--------------------------------------------------\n",
      "Original synopsis:\n",
      "Note: this synopsis is for the orginal Italian release with the segments in this certain order.Boris Karloff introduces three horror tales of the macabre and the supernatural known as the 'Three Faces of Fear'.THE TELEPHONERosy (Michele Mercier) is an attractive, high-priced Parisian call-girl who returns to her spacious, basement apartment after an evening out when she immediately gets beset by a series of strange phone calls. The caller soon identified himself as Frank, her ex-pimp who has recently escaped from prison. Rosy is terrified for it was her testimony that landed the man in jail. Looking for solace, Rosy phones her lesbian lover Mary (Lynda Alfonsi). The two women have been estranged for some time, but Rosy is certain that she is the only one who can help her. Mary agrees to come over that night. Seconds later, Frank calls again, promising that no matter who she calls for protection, he will have his revenge. Unknown to Rosy, Mary is the caller impersonating Frank. Marry arrives at Rosy's apartment soon after, and does her best to calm Rosy's nerves. She gives the panic-struck woman a tranquillizer and puts her to bed.Later that night as Rosy sleeps, Mary gets up out of bed, and pens a note of confession: she was the one making the strange phone calls when she learned of Franks escape from prison. Knowing that Rosy would call on her for help, she explains that she felt it was her way of coming back into her life after their breakup. While she is busy writing, she fails to notice an intruder in the apartment. This time it is Frank, for real. He creeps up behind Mary and strangles her to death with one of Rosys nylon stockings. The sound of the struggle awaken Rosy and she gasps in fright. The murderous pimp realizes that he just killed the wrong woman, and slowly makes his way to Rosy's bed. However, earlier that night, Rosy had placed a butcher knife under her pillow at Mary's suggestion. Rosy seizes the knife and stabs Frank with it as he's beginning to strangle her. Rosy drops the knife and breaks down in hysteria, surrounded by the two corpses of her former lovers.THE WURDALAKIn 19th Century Russia, Vladimir D'Urfe is a young nobleman on a long trip. During the course of his journey, he finds a beheaded corpse with a knife plunged into its heart. He withdraws the blade and takes it as a souvenir.Later that night, Vladimir stops at a small rural cottage to ask for shelter. He notices several daggers hanging up on one of the walls, and a vacant space that happens to fit the one he has discovered. Vladimir is surprised by the entrance of Giorgio (Glauco Onorato), who explains that the knife belongs to his father, who has not been seen for five days. Giorgio offers a room to the young count, and subsequently introduces him to the rest of the family: his wife (Rika Dialina), their young son Ivan, Giorgio's younger brother Pietro (Massimo Righi), and sister Sdenka (Susy Anderson). It subsequently transpires that they are eagerly anticipating the arrival of their father, Gorcha, as well as the reason for his absence: he has gone to do battle with the outlaw and dreaded wurdalak Ali Beg. Vladimir is confused by the term, and Sdenka explains that a wurdalak is a walking cadaver who feeds on the blood of the living, preferably close friends and family members. Giorgio and Pietro are certain that the corpse Vladimir had discovered is that of Ali Beg, but also realize that there is a strong possibility that their father has been infected by the blood curse too. They warn the count to leave, but he decides to stay and await the old mans return.At the stroke of midnight, Gorcha (Boris Karloff) returns to the cottage. His sour demeanor and unkempt appearance bode the worse, and the two brothers are torn: they realize that it is their duty to kill Gorcha before he feeds on the family, but their love for him makes it difficult to reach a decision. Later that night, both Ivan and Pietro are attacked by Gorcha who drains them of blood, and then flees the cottage. Giorgio stakes and beheads Pietro to prevent him from reviving as a wurdalak. But he is prevented from doing so to Ivan when his wife threatens to commit suicide. Reluntantly, he agrees to bury the child without taking the necessary precautions.That same night, the child rises from his grave and begs to be invited into the cottage. The mother runs to her son's aid, stabbing Giorgio when he attempts to stop her, only to be greeted at the front door by Gorcha. The old man bits and infects his daughter-in-law, who then does the same for her husband. Vladimir and Sdenka flee from the cottage and go on the run and hide out in the ruins of an abandoned cathedral as dawn breaks. Vladimir is optimistic that a long and happy life lies with them. But Sdenka is reluctant to relinquish her family ties. She believes that she is meant to stay with the family.Sdenka's fears about her family are confirmed when that evening, Gorcha and her siblings show up at the abandoned Abby. As Vladimir sleeps, Sdenka is lured into their loving arms where they bite to death. Awakened by her screams, Vladimir rushes to her aid, but the family has already taken her home, forcing the lover to follow suite. The young nobleman finds her, lying motionless on her bed. Sdenka awakens, and a distinct change is visible on her face. No longer caring, Vladimir embraces her, and she bites and infects him too.THE DROP OF WATERIn Victorian London, England, Nurse Helen Chester (Jacqueline Pierreux) is called to a large house to prepare the corpse of an elderly medium for her burial. As she dressed the body, she notices an elaborate diamond ring on its finger. Tempted by greed, Nurse Chester steals it. As she does, a glass tips over, and drops of water begin to splash on the floor. She is also assailed by a fly, no doubt attracted by the odor of the body. Unsettled but pleased by her acquisition, she finishes the job and returns home to her small East End flat.After returning home, Nurse Chester is assailed by strange events. The buzzing fly returns and continues to pester her. Then the lights in her apartment go out, and the sounds of the dripping water continues with maddening regularity. She sees the old womans corpse lying on her bed, and coming towards her. The terrified woman begs for forgiveness, but she ultimately strangles herself, imaging that the medium's hands are gripping her throat.The next morning, the concierge (Harriet White Medin) discovers Nurse Chester's body and calls the police. The investigator on the scene (Gustavo de Nardo) quickly concludes that its a simple case and that Nurse Chester \"died of fright\". The pathologist arrives on the scene to examine the body before it's taken away and he notes that the only sign of violence is a small bruise on her left finger, mostly likely caused when someone pried a ring from her finger. As the doctor makes this observation, the concierge appears distressed, as she has apparently took the ring from the dead Nurse Chester, and is further distracted by the sound of a fly swooping about in the air....Boris Karloff makes a final appearance as Gorcha riding on his horse as he concludes the three tales of fear and tells the viewers to be careful while walking home at night for ghosts and vampires have no fear. The image pulls back to actually reveal him sitting on a prop fake horse with a camera crew and various crewmen moving branches around to simulate the scene of riding through the forest from the Wurdalak segment.\n",
      "--------------------------------------------------\n",
      "Tags:\n",
      "['cult', 'horror', 'gothic', 'murder', 'atmospheric']\n"
     ]
    }
   ],
   "source": [
    "print(\"Movie info example\")\n",
    "print(\"-\" * 50)\n",
    "print(\"Title:\")\n",
    "print(train_set[0].title)\n",
    "print(\"-\" * 50)\n",
    "print(\"Preprocessed synopsis:\")\n",
    "print(train_set[0].synopsis_preprocessed)\n",
    "print(\"-\" * 50)\n",
    "print(\"Original synopsis:\")\n",
    "print(train_set[0].synopsis_original)\n",
    "print(\"-\" * 50)\n",
    "print(\"Tags:\")\n",
    "print(train_set[0].tags)"
   ]
  },
  {
   "cell_type": "markdown",
   "metadata": {
    "id": "eDGkPyqHYrEu"
   },
   "source": [
    "## Task 1: TF-IDF (5 points)\n",
    "\n",
    "TF-IDF is one of the techniques to represent a text as a vector. TF-IDF means Term Frequency - Inversed Document Frequency. The hyphen between two term does not mean substraction, the terms are multiplies with each other.\n",
    "\n",
    "For this approach, we are going to create a document matrix, that is going to have a TF-IDF value for each word in every document. For each document, this value is going to be different.\n",
    "\n",
    "Let's dive into this gradually, starting with the first part - term frequency.\n",
    "\n",
    "As you might've guesses from the name, term frequency shows us how many times each word appears in a document. But just a simple counter is going to prioritize very frequent words, like is or me, so we are going to normalize it. It gives us the following formula for the term frequency:\n",
    "\n",
    "tf(t, d) = count of t in d / number of words in d\n",
    "\n",
    "where t is the term, or a word, and d is a document."
   ]
  },
  {
   "cell_type": "markdown",
   "metadata": {
    "id": "_7Tw9lkKYw4W"
   },
   "source": [
    "### Task 1.1. Build a vocab (0.5 points)\n",
    "Before we start let's build a vocabulary, containing all the unique words in our training set.\n",
    "\n",
    "Complete the build_vocab() function, so it takes a list of texts, each of them represented by a list of tokens (texts = [['token1', 'token2', ... 'token_i'], ['token1', 'token2', ... 'token_i'], ..., ['token1', 'token2', ... 'token_i']]) and returns a dict with a word as a key and its index as a number (vocab = {'and': 0, 'me': 1, ..., 'zimbabwe': 546})."
   ]
  },
  {
   "cell_type": "code",
   "execution_count": 38,
   "metadata": {
    "id": "qzTlicW8Y6Yk"
   },
   "outputs": [],
   "source": [
    "def build_vocab(texts):\n",
    "    vocab = {}\n",
    "    for text in texts:\n",
    "        for token in text:\n",
    "            if token not in vocab.keys():\n",
    "                vocab[token] = text.index(token)\n",
    "    return vocab"
   ]
  },
  {
   "cell_type": "code",
   "execution_count": 39,
   "metadata": {
    "id": "f3tUmWqqY78t"
   },
   "outputs": [],
   "source": [
    "def get_preprocessed_synopses(data_set):\n",
    "    return [entry.synopsis_preprocessed.split() for entry in data_set]"
   ]
  },
  {
   "cell_type": "code",
   "execution_count": 40,
   "metadata": {
    "id": "dKFOpTQJY_Zm",
    "scrolled": true
   },
   "outputs": [
    {
     "name": "stdout",
     "output_type": "stream",
     "text": [
      "Total length of the vocab: 33537\n"
     ]
    }
   ],
   "source": [
    "vocab = build_vocab(get_preprocessed_synopses(train_set))\n",
    "print(\"Total length of the vocab:\", len(vocab))"
   ]
  },
  {
   "cell_type": "markdown",
   "metadata": {
    "id": "Ib0uYf8RZC3Z"
   },
   "source": [
    "### Task 1.2. Count TF (1 point)\n",
    "With the vocabulary built, construct a term frequency matrix. This matrix should have a shape of (number of documents, size of vocab) and contain a count for each term. For example, is a word cat is seen 12 times in the document #100, you will have tf[100, vocab['cat']] = 12.\n",
    "\n",
    "Complete the tf() function below and make sure you get the correct output."
   ]
  },
  {
   "cell_type": "code",
   "execution_count": 41,
   "metadata": {
    "id": "SodLkJrlZE2Z"
   },
   "outputs": [],
   "source": [
    "def tf(texts, vocab):\n",
    "    \n",
    "    # Store the TF value here\n",
    "    tf = np.zeros((len(texts), len(vocab)))\n",
    "    \n",
    "    # Store the length of each document here\n",
    "    doc_lens = np.zeros(len(texts))\n",
    "    \n",
    "    for i in range(len(texts)):\n",
    "        for token in texts[i]:\n",
    "            if token in vocab.keys():\n",
    "                tf[i, vocab[token]] += 1\n",
    "                doc_lens[i] += 1\n",
    "    \n",
    "    tf = tf / doc_lens[:, np.newaxis]\n",
    "    return tf"
   ]
  },
  {
   "cell_type": "code",
   "execution_count": 42,
   "metadata": {
    "id": "Ef2ytWMUZH27"
   },
   "outputs": [
    {
     "name": "stdout",
     "output_type": "stream",
     "text": [
      "Shape of the train TF matrix should be (1000, 33537): (1000, 33537)\n",
      "Sum of all TFs for the first synopsis should be 1: 1.0\n",
      "\n",
      "Shape of the train TF matrix should be (500, 33537): (500, 33537)\n",
      "Sum of all TFs for the first synopsis should be 1: 1.0\n"
     ]
    }
   ],
   "source": [
    "train_tf = tf(get_preprocessed_synopses(train_set), vocab)\n",
    "\n",
    "print(\"Shape of the train TF matrix should be (1000, 33537):\", train_tf.shape)\n",
    "print(\"Sum of all TFs for the first synopsis should be 1:\", np.sum(train_tf[0, :]))\n",
    "print()\n",
    "\n",
    "test_tf = tf(get_preprocessed_synopses(test_set), vocab)\n",
    "\n",
    "print(\"Shape of the train TF matrix should be (500, 33537):\", test_tf.shape)\n",
    "print(\"Sum of all TFs for the first synopsis should be 1:\", np.sum(test_tf[0, :]))"
   ]
  },
  {
   "cell_type": "markdown",
   "metadata": {
    "id": "-8fWW-_GZI9r"
   },
   "source": [
    "### Task 1.3. Normalize your TF (0.5 points)\n",
    "Good news is that we can already find similar documents with only our TF matrix! We can do it by calculating a cosine similarity between the vectors of two documents. In our case, the vectors for the documents are the rows of the TF matrix that contain the frequency value for each term. But as we learned with word embeddings, to make the cosine value be relevant, we need to normalize all the vectors, i.e. make the all of length 1.\n",
    "\n",
    "To normalize a vector, we need to divide each value by the length of the vector. Please, use the np.linalg.norm function to find the length of the vector. Read the documentation and choose the correct axis value.\n",
    "\n",
    "When dividing the tf matrix by our lengths vector, you might want to add [:, np.newaxis] to avoid shape mismatching errors (see the tf() function).\n",
    "\n",
    "Complete the normalize() function below:"
   ]
  },
  {
   "cell_type": "code",
   "execution_count": 43,
   "metadata": {
    "id": "LH4g5kViZNEc"
   },
   "outputs": [],
   "source": [
    "def normalize(tf):\n",
    "    tf_norms = np.linalg.norm(tf, ord=2, axis=1)\n",
    "    tf_norms = tf_norms[:, np.newaxis] # Alternative: tf_norms = tf_norms.reshape(len(tf_norms), 1)\n",
    "    tf_normalized = tf / tf_norms\n",
    "    # Sanity check: print(np.linalg.norm(tf_normalized, ord=2, axis=1))\n",
    "    return tf_normalized"
   ]
  },
  {
   "cell_type": "code",
   "execution_count": 44,
   "metadata": {
    "id": "8xytscm9ZOHM"
   },
   "outputs": [],
   "source": [
    "test_tf_norm = normalize(test_tf)"
   ]
  },
  {
   "cell_type": "markdown",
   "metadata": {
    "id": "3AlfrTOsZQS2"
   },
   "source": [
    "### Task 1.4. Cosine similarity (0.5 points)\n",
    "Finish the cosine_similarity() function. It should take one vector as a query argument, the matrix of vectors for each document as a pool argument, and the number of the most similar documents to return as a k argument.\n",
    "\n",
    "For each document in the pool we caclulate a cosine similarity with the query, which is a dot product of the corresponding two vectors.\n",
    "\n",
    "The return value of the function should the a numpy array of length k, containing the indices for the most similar documents sorted in descending order, i.e. from the most similar document to the least similar one.\n",
    "\n",
    "In this fucntion you might want to use np.argsort and np.dot functions."
   ]
  },
  {
   "cell_type": "code",
   "execution_count": 45,
   "metadata": {
    "id": "3iSdkvCXZTSS"
   },
   "outputs": [],
   "source": [
    "def cosine_similarity(query, pool, k=10):\n",
    "    product = np.dot(pool[:10], query)\n",
    "    #descending_order = np.sort(product)[::-1]\n",
    "    arr = np.argsort(product)[::-1]\n",
    "    return arr"
   ]
  },
  {
   "cell_type": "markdown",
   "metadata": {
    "id": "PDIt7WwWZWze"
   },
   "source": [
    "Sanity check of our cosine_similarity() function. We check the most similar documents to the first document in our training set. Obviously, the same document should be the most similar.\n",
    "\n",
    "The output should be something like this: array([  0, 177, 187, 344, 407, 518, 766, 861, 255, 316], dtype=int64).\n",
    "\n",
    "If the first element is not 0, it means that you did something wrong during the previous steps!"
   ]
  },
  {
   "cell_type": "code",
   "execution_count": 46,
   "metadata": {
    "id": "FROiq9p6ZX9c"
   },
   "outputs": [
    {
     "data": {
      "text/plain": [
       "array([0, 4, 3, 7, 1, 8, 2, 9, 5, 6], dtype=int64)"
      ]
     },
     "execution_count": 46,
     "metadata": {},
     "output_type": "execute_result"
    }
   ],
   "source": [
    "train_tf_norm = normalize(train_tf)\n",
    "cosine_similarity(train_tf_norm[0, :], train_tf_norm)"
   ]
  },
  {
   "cell_type": "markdown",
   "metadata": {
    "id": "NCMyzKCoZa7P"
   },
   "source": [
    "We are also going to introduce a very naive and simple method to evaluate the quality of our predictions. For each predicted text, we are going to look at its tags and mark it as correct if at least one tag in the query and prediction is the same."
   ]
  },
  {
   "cell_type": "code",
   "execution_count": 47,
   "metadata": {
    "id": "Deq3DsPyZdkF"
   },
   "outputs": [],
   "source": [
    "def accuracy(pred, gold):\n",
    "    assert len(pred) == len(gold)\n",
    "    correct = 0\n",
    "    total = 0\n",
    "    for i in range(len(pred)):\n",
    "        total += 1\n",
    "        if any(x in pred[i] for x in gold[i]):\n",
    "            correct += 1\n",
    "    return correct / total"
   ]
  },
  {
   "cell_type": "markdown",
   "metadata": {
    "id": "DnAFxG_KZeY3"
   },
   "source": [
    "Let's see the accuracy for our TF classifier:"
   ]
  },
  {
   "cell_type": "code",
   "execution_count": 48,
   "metadata": {
    "id": "gFimotVmZgHm"
   },
   "outputs": [],
   "source": [
    "tf_pred = []\n",
    "gold = []\n",
    "for i, test_entry in enumerate(test_tf_norm):\n",
    "    most_similar = cosine_similarity(test_entry, train_tf_norm, k=1)\n",
    "    gold.append(test_set[i].tags)\n",
    "    tf_pred.append(train_set[most_similar[0]].tags)"
   ]
  },
  {
   "cell_type": "code",
   "execution_count": 49,
   "metadata": {
    "id": "0ltSIBdaZh86"
   },
   "outputs": [
    {
     "name": "stdout",
     "output_type": "stream",
     "text": [
      "0.496\n"
     ]
    }
   ],
   "source": [
    "print(accuracy(tf_pred, gold))"
   ]
  },
  {
   "cell_type": "markdown",
   "metadata": {
    "id": "NoU9ORHkZk4E"
   },
   "source": [
    "### Task 1.5. Count DF (1 point)\n",
    "Let's proceed to the second part of the TF-IDF which is inversed document frequency. But before we inverse something, let's find the document frequency first. We define the document frequency as df(t) = occurrence of t in documents.\n",
    "\n",
    "To find it, we can use a simple but very slow approach of iterating through each document and comparing each word in it against the vocabulary. There is an alternative way to do it really fast, only using the tf matrix that we already constructed above.\n",
    "\n",
    "The df() function should return an array of length of our vocab, where for each respective word index, we have a value representing the number of documents with word was seen in.\n",
    "\n",
    "Try to find a df array with one-liner. Hint: You may want to use np.sum() function. Also, remember that you can use equality operators (<, >, ==) with numpy arrays.\n",
    "\n",
    "The correct one-line solution will get 1 point, the slow iterative solution with only get 0.5 points!"
   ]
  },
  {
   "cell_type": "code",
   "execution_count": 50,
   "metadata": {
    "id": "-hVI75cAZoFW"
   },
   "outputs": [],
   "source": [
    "def df(tf):\n",
    "    arr = np.sum(train_tf > 0, axis=0)\n",
    "    return arr"
   ]
  },
  {
   "cell_type": "code",
   "execution_count": 51,
   "metadata": {
    "id": "3WqDYOuwZsx_"
   },
   "outputs": [],
   "source": [
    "train_df = df(train_tf)"
   ]
  },
  {
   "cell_type": "markdown",
   "metadata": {
    "id": "pf3G9cbPZveF"
   },
   "source": [
    "Your train_df array should look like this: array([25,  2,  6, ...,  3,  1, 31]). You will probably have different numbers in the array since the initialization of the dictionary is different on your machine."
   ]
  },
  {
   "cell_type": "code",
   "execution_count": 52,
   "metadata": {
    "id": "qxNGuS7nZzMc"
   },
   "outputs": [
    {
     "data": {
      "text/plain": [
       "array([479, 709, 587, ...,   0,   0,   0])"
      ]
     },
     "execution_count": 52,
     "metadata": {},
     "output_type": "execute_result"
    }
   ],
   "source": [
    "train_df"
   ]
  },
  {
   "cell_type": "markdown",
   "metadata": {
    "id": "XcBhPrnkZ332"
   },
   "source": [
    "### Task 1.6. Count IDF (0.5 points)\n",
    "We almost finished in our journey into TF-IDF land. Let's finally calculate the inversed document frequency. The formula for it is idf(t) = N/df where N is the total number of documents and df is the document frequency that we calculated before. But if N is some really large number, our IDF term will become huge. Thus, we are going to take a log of it.\n",
    "\n",
    "Finally, the formula that we are going to use is: idf(t) = log(N/(df + 1)). log here is a natural logarithm, i.e. with base e.\n",
    "\n",
    "If we try to think what IDF does, it gives more weight to rare words in the document collection and less to the words that appear in many documents. The assumtion is that the first type of words and my characteristic of a document that the second type.\n",
    "\n",
    "The final IDF vector should be of the length of our vocabulary.\n",
    "\n",
    "Implement the idf() function below:"
   ]
  },
  {
   "cell_type": "code",
   "execution_count": 53,
   "metadata": {
    "id": "sq0-gi_pZ7JL"
   },
   "outputs": [],
   "source": [
    "def idf(texts, df):\n",
    "    result = np.log(len(texts) / (train_df+1))\n",
    "    return result"
   ]
  },
  {
   "cell_type": "code",
   "execution_count": 54,
   "metadata": {
    "id": "vPpkD8GmZ74T"
   },
   "outputs": [
    {
     "name": "stdout",
     "output_type": "stream",
     "text": [
      "(33537,)\n"
     ]
    }
   ],
   "source": [
    "train_idf = idf(get_preprocessed_synopses(train_set), train_df)\n",
    "print(train_idf.shape)"
   ]
  },
  {
   "cell_type": "markdown",
   "metadata": {
    "id": "Xr0eLCOSZ_DW"
   },
   "source": [
    "\n",
    "Finally, TF-IDF is just a multiplication of two terms that we calculated before:"
   ]
  },
  {
   "cell_type": "code",
   "execution_count": 55,
   "metadata": {
    "id": "20d0kt5_aADc"
   },
   "outputs": [],
   "source": [
    "def tfidf(tf, idf):\n",
    "    return tf * idf"
   ]
  },
  {
   "cell_type": "code",
   "execution_count": 56,
   "metadata": {
    "id": "FjzjYD5MaBo2"
   },
   "outputs": [],
   "source": [
    "train_tfidf = tfidf(train_tf, train_idf)\n",
    "train_tfidf_norm = normalize(train_tfidf)"
   ]
  },
  {
   "cell_type": "markdown",
   "metadata": {
    "id": "RnBjH5CAaEQo"
   },
   "source": [
    "Sanity check again. The most similar document should be 0. If it's different, check your previous code for mistakes!"
   ]
  },
  {
   "cell_type": "code",
   "execution_count": 57,
   "metadata": {
    "id": "FRHK7N-0aFDq"
   },
   "outputs": [
    {
     "data": {
      "text/plain": [
       "array([0, 4, 3, 8, 2, 1, 7, 6, 5, 9], dtype=int64)"
      ]
     },
     "execution_count": 57,
     "metadata": {},
     "output_type": "execute_result"
    }
   ],
   "source": [
    "cosine_similarity(train_tfidf_norm[0, :], train_tfidf_norm)"
   ]
  },
  {
   "cell_type": "markdown",
   "metadata": {
    "id": "LirPDJmMaGv1"
   },
   "source": [
    "Since we want to compare test texts, which are unseen, we need to have the same vocabulary size as our train matrix. Thus, we are going to calculate the TF term for each test text and we are going to use the IDF term from our training set. For now, we are just ignoring the words that are in the test set but not in the train set."
   ]
  },
  {
   "cell_type": "code",
   "execution_count": 58,
   "metadata": {
    "id": "hum8TtdEaIhx"
   },
   "outputs": [],
   "source": [
    "test_tfidf = tfidf(test_tf, train_idf)\n",
    "test_tfidf_norm = normalize(test_tfidf)"
   ]
  },
  {
   "cell_type": "code",
   "execution_count": 59,
   "metadata": {
    "id": "_i8Uyja7aLcZ"
   },
   "outputs": [
    {
     "name": "stdout",
     "output_type": "stream",
     "text": [
      "0.518\n"
     ]
    }
   ],
   "source": [
    "tfidf_pred = []\n",
    "for i, test_entry in enumerate(test_tfidf_norm):\n",
    "    most_similar = cosine_similarity(test_entry, train_tfidf_norm, k=1)\n",
    "    tfidf_pred.append(train_set[most_similar[0]].tags)\n",
    "    \n",
    "print(accuracy(tfidf_pred, gold))"
   ]
  },
  {
   "cell_type": "markdown",
   "metadata": {
    "id": "TrSHjHmwRn45"
   },
   "source": [
    "### Task 1.7: Questions (1 point)\n",
    "\n",
    "**Where could we use TF-IDF in practice? Give some examples of tasks in NLP that benefit from it. Explain your reasoning.** <br>\n",
    "Answer: Mostly for quickly finding the similarities between articles. Since in tf-idf matrix we represent each document as a collection of words and represent the documents in a normalized form, we can use dot product(which gets bigger if the angle between document vectors is small, ie if their vectors are similar) to estimate the similarity between different documents. This can come in handy for quick plagiarism checks and basic recommendation systems algorithms, for example.\n",
    "\n",
    "**When should one use sparse embeddings instead of short dense embeddings?**<br>\n",
    "Answer: I am not so sure but I thought of several cases to answer this question. First case is related to complexity of our experiment, if we want to see some quick initial results for a task waiting to be solved, it's probably better to use tf-idf method over word2vec, since the latter will take a lot of time to load. Another case is related to bias in dense embeddings, I guess this won't happen as extremely in sparse embeddings as it happens in word2vec, since we are not using an advance neural model(which is able to capture to context, ie human-originated bias, of a certain word) to calculate the embeddings in sparse embeddings.\n",
    "\n",
    "**How can we evaluate embeddings? What resources can we use for it? (think about word and document level embeddings)**<br>\n",
    "Answer: According to the reading 6.12 in Jurafsky&Martin's book, one way to evaluate the embeddings is to compare their word similarity scores with human-assigned similarity scores for those same words. Of course there is no one single comparison type that can holistically evaluate embeddings; since context around the word matters too. More on this on 6.12, the authors discuss some datasets that showcase human-labeled word similarity rankings in different contexts.\n",
    "\n",
    "For document level embeddings, I can think of first finding the document level similarities with a computational method and then comparing these similarities with human-assigned similarity rankings for different documents. Problem is finding a dataset for the latter part, there can be endless number of documents similar to a particular document for humans to assign a score. Yet this was also briefly discussed in the book, so I think there have been ways to create a document-level similarity ranking dataset based on human input.\n",
    "\n",
    "**What are some of the limitations of embeddings?**<br>\n",
    "Answer: Their inability to deal with OOV words, difference in the meanings of words in different corpora(for example one cannot use word2vec with very specific scientific texts and expect to get good results since the meanings of the words may change a bit in the scientific context), and bias. One can deal with the former two by using a custom embedding layer to train the word embeddings from scratch rather than utilizing pretrained embeddings. There are also some work in progress for debiasing word vectors, but I am not very knowledgeable in the methods utilized for them.\n",
    "\n"
   ]
  },
  {
   "cell_type": "markdown",
   "metadata": {
    "id": "mKdQu0KLQLvi"
   },
   "source": [
    "## Task 2: Doc2Vec (1 points)\n",
    "\n",
    "TF-IDF maybe a good solution for short query but it is most likely inefficient for long queries. This is because TF-IDF is a bag-of-words (BOW) algorithm. As the name suggests, all the words are just compiled in out vocabulary, like in a bag, and the order in which they appear in text does not affect the resulting vector. Thus Mary likes John and John likes Mary are going to have identical TF-IDF vectors. Another problem is that is the size of the vocabulary is large, we are going to have many zeros that don't represent anything useful.\n",
    "\n",
    "Another algorithm is Doc2Vec. This algorithm was described by the same people that invented Word2Vec in their paper Le, Q., & Mikolov, T. (2014, January). Distributed representations of sentences and documents. In International conference on machine learning (pp. 1188-1196)..\n",
    "\n",
    "The main idea is very similar to the Word2Vec model. Actually, the models are almost identical, with the only difference being a paragraph matrix added to the input. This matrix is going to be the embedding for the document.\n",
    "\n",
    "In this homework, we are going to train a Doc2Vec model using Gensim package.\n",
    "\n",
    "First, we need to prepare train and test sets. Train set should be a collection of TaggedDocument objects, that contain the text and the index of each text. This index is going to correspond to the additional paragraph matrix row, containing the document vector. The test set is just a list of texts."
   ]
  },
  {
   "cell_type": "code",
   "execution_count": 68,
   "metadata": {
    "id": "ZVRTXRmpQVbs"
   },
   "outputs": [],
   "source": [
    "doc2vec_train = []\n",
    "\n",
    "for i, text in enumerate(get_preprocessed_synopses(train_set)):\n",
    "    doc2vec_train.append(TaggedDocument(text, [i]))\n",
    "    \n",
    "doc2vec_test = [text for text in get_preprocessed_synopses(test_set)]"
   ]
  },
  {
   "cell_type": "markdown",
   "metadata": {
    "id": "rFhTdOLTQWTD"
   },
   "source": [
    "Next, to train the model, we just need to specify hyperparameters, build the vocabulary and run the train() function.\n",
    "\n",
    "Your task is to read the Doc2Vec documentation, Doc2Vec tutorial, and the paper above. Then, find the hyperparameters that, in your opinion, suit best our dataset.\n",
    "\n",
    "Leave the seed as 1234!\n",
    "\n",
    "Try to achieve the accuracy > 0.55"
   ]
  },
  {
   "cell_type": "code",
   "execution_count": 69,
   "metadata": {
    "id": "xysoalUlQZsa"
   },
   "outputs": [],
   "source": [
    "model = Doc2Vec(vector_size=40, min_count=2, epochs=30, seed=1234)\n",
    "\n",
    "model.build_vocab(doc2vec_train)\n",
    "\n",
    "model.train(doc2vec_train, total_examples=model.corpus_count, epochs=model.epochs)"
   ]
  },
  {
   "cell_type": "markdown",
   "metadata": {
    "id": "3AJOZt5YQgsM"
   },
   "source": [
    "Sanity check that the most similar text in the training set is the text itself. The first index should be 0."
   ]
  },
  {
   "cell_type": "code",
   "execution_count": 72,
   "metadata": {
    "id": "scs6O-s1Qj-U"
   },
   "outputs": [
    {
     "data": {
      "text/plain": [
       "[(0, 0.9908589124679565),\n",
       " (334, 0.6668522357940674),\n",
       " (489, 0.6015280485153198),\n",
       " (518, 0.5951919555664062),\n",
       " (318, 0.5783648490905762),\n",
       " (320, 0.5738319158554077),\n",
       " (935, 0.5602303743362427),\n",
       " (261, 0.5542914867401123),\n",
       " (627, 0.5529086589813232),\n",
       " (203, 0.5505402088165283)]"
      ]
     },
     "execution_count": 72,
     "metadata": {},
     "output_type": "execute_result"
    }
   ],
   "source": [
    "vector = model.infer_vector(doc2vec_train[0].words)\n",
    "model.docvecs.most_similar([vector])"
   ]
  },
  {
   "cell_type": "code",
   "execution_count": 210,
   "metadata": {
    "id": "bm4fuh4NQkzz"
   },
   "outputs": [],
   "source": [
    "doc2vec_pred = []\n",
    "for i, test_entry in enumerate(doc2vec_test):\n",
    "    vector = model.infer_vector(test_entry)\n",
    "    most_similar = model.docvecs.most_similar([vector])\n",
    "    doc2vec_pred.append(train_set[most_similar[0][0]].tags)\n"
   ]
  },
  {
   "cell_type": "markdown",
   "metadata": {
    "id": "rym_IoSyQtY8"
   },
   "source": [
    "Try to achieve the accuracy over 0.55. "
   ]
  },
  {
   "cell_type": "code",
   "execution_count": 211,
   "metadata": {
    "id": "wnVOmohLQrqL"
   },
   "outputs": [
    {
     "name": "stdout",
     "output_type": "stream",
     "text": [
      "0.59\n"
     ]
    }
   ],
   "source": [
    "print(accuracy(doc2vec_pred, gold))"
   ]
  },
  {
   "cell_type": "markdown",
   "metadata": {
    "id": "zzSA6g1MQ0fz"
   },
   "source": [
    "## Task 3: Write your own plot (1 point)\n",
    "\n",
    "Try to come up with your own movie plot. Then run three different algorithms (TF, TF-IDF, Doc2Vec) to find similar plots from the collection. Your plot should not be very long, three sentences should be enough unless your imagination strives for more :)\n",
    "\n",
    "Answer the following question:\n",
    "\n",
    "**In your opinion, which algorithm performed better in this task? Explain your choice.**\n"
   ]
  },
  {
   "cell_type": "markdown",
   "metadata": {
    "id": "HIXBVaMLRapF"
   },
   "source": [
    "Answer: I cannot really choose since all of the algorithms returned very unlikely candidates, with film topics like \"murder, mystery, gothic, horror, violence\" etc. Even thoug all the algorithms performed craptacularly; tf-idf seems to fare better since its second and third candidates have topics which are a bit more ordinary and seems to tell the adventure of one individual(especially Mr. Holland's Opus) like in the Wolf of Wall Street.\n",
    "\n",
    "I cannot judge the algorithm performance though, since my test plot may not be very informative, or films with similar plots do not exist in the training data used by the models. Or maybe doc2vec would have returned something better(since its output was probably the worst, especially with its second plot guess having a topic of 'insanity, murder') if I had performed extensive hyperparameter optimization. Anyway, tf-idf for the win, but in reality all three algorithms have bad performance that it doesn't matter which to choose."
   ]
  },
  {
   "cell_type": "code",
   "execution_count": 60,
   "metadata": {
    "id": "qhih0TVpRBwG"
   },
   "outputs": [],
   "source": [
    "# Put your title here\n",
    "my_title = \"The Wolf of Wall Street Plot Summary\"\n",
    "\n",
    "# Put your plot here\n",
    "my_plot = \"\"\"In the early 1990s, Jordan Belfort teamed with his partner Donny Azoff and started brokerage firm Stratton Oakmont. \n",
    "Their company quickly grows from a staff of 20 to a staff of more than 250 and their status in the trading community and Wall Street grows exponentially. \n",
    "So much that companies file their initial public offerings through them. \n",
    "As their status grows, so do the amount of substances they abuse, and so do their lies. \n",
    "They draw attention like no other, throwing lavish parties for their staff when they hit the jackpot on high trades. \n",
    "That ultimately leads to Belfort featured on the cover of Forbes Magazine, being called \"The Wolf Of Wall St.\". \n",
    "With the FBI onto Belfort's trading schemes, he devises new ways to cover his tracks and watch his fortune grow. \n",
    "Belfort ultimately comes up with a scheme to stash their cash in a European bank. \n",
    "But with the FBI watching him like a hawk, how long will Belfort and Azoff be able to maintain their elaborate wealth and luxurious lifestyles?\"\"\""
   ]
  },
  {
   "cell_type": "code",
   "execution_count": 61,
   "metadata": {
    "id": "4zusbn0zRChA"
   },
   "outputs": [],
   "source": [
    "def preprocess(text):\n",
    "    doc = nlp(text)\n",
    "    preprocessed_text = synopsis = [token.lemma_.lower() for sent in doc.sents for token in sent \n",
    "                    if not token.is_stop and not token.is_punct and not token.is_space]\n",
    "    return preprocessed_text"
   ]
  },
  {
   "cell_type": "code",
   "execution_count": 62,
   "metadata": {
    "id": "R20plrfpREND"
   },
   "outputs": [],
   "source": [
    "plot_preprocessed = preprocess(my_plot)"
   ]
  },
  {
   "cell_type": "code",
   "execution_count": 63,
   "metadata": {
    "id": "qAULLMaHRFng"
   },
   "outputs": [],
   "source": [
    "my_plot_tf = tf([plot_preprocessed], vocab)"
   ]
  },
  {
   "cell_type": "code",
   "execution_count": 64,
   "metadata": {
    "id": "pUS54BUmRJIK"
   },
   "outputs": [
    {
     "name": "stdout",
     "output_type": "stream",
     "text": [
      "Similar plots by TF:\n",
      "\n",
      "Author's title: The Wolf of Wall Street Plot Summary\n",
      "Author's plot: In the early 1990s, Jordan Belfort teamed with his partner Donny Azoff and started brokerage firm Stratton Oakmont. \n",
      "Their company quickly grows from a staff of 20 to a staff of more than 250 and their status in the trading community and Wall Street grows exponentially. \n",
      "So much that companies file their initial public offerings through them. \n",
      "As their status grows, so do the amount of substances they abuse, and so do their lies. \n",
      "They draw attention like no other, throwing lavish parties for their staff when they hit the jackpot on high trades. \n",
      "That ultimately leads to Belfort featured on the cover of Forbes Magazine, being called \"The Wolf Of Wall St.\". \n",
      "With the FBI onto Belfort's trading schemes, he devises new ways to cover his tracks and watch his fortune grow. \n",
      "Belfort ultimately comes up with a scheme to stash their cash in a European bank. \n",
      "But with the FBI watching him like a hawk, how long will Belfort and Azoff be able to maintain their elaborate wealth and luxurious lifestyles?\n",
      "--------------------------------------------------\n",
      "Candidate 0:\n",
      "Title: I tre volti della paura\n",
      "Plot: Note: this synopsis is for the orginal Italian release with the segments in this certain order.Boris Karloff introduces three horror tales of the macabre and the supernatural known as the 'Three Faces of Fear'.THE TELEPHONERosy (Michele Mercier) is an attractive, high-priced Parisian call-girl who returns to her spacious, basement apartment after an evening out when she immediately gets beset by a series of strange phone calls. The caller soon identified himself as Frank, her ex-pimp who has recently escaped from prison. Rosy is terrified for it was her testimony that landed the man in jail. Looking for solace, Rosy phones her lesbian lover Mary (Lynda Alfonsi). The two women have been estranged for some time, but Rosy is certain that she is the only one who can help her. Mary agrees to come over that night. Seconds later, Frank calls again, promising that no matter who she calls for protection, he will have his revenge. Unknown to Rosy, Mary is the caller impersonating Frank. Marry arrives at Rosy's apartment soon after, and does her best to calm Rosy's nerves. She gives the panic-struck woman a tranquillizer and puts her to bed.Later that night as Rosy sleeps, Mary gets up out of bed, and pens a note of confession: she was the one making the strange phone calls when she learned of Franks escape from prison. Knowing that Rosy would call on her for help, she explains that she felt it was her way of coming back into her life after their breakup. While she is busy writing, she fails to notice an intruder in the apartment. This time it is Frank, for real. He creeps up behind Mary and strangles her to death with one of Rosys nylon stockings. The sound of the struggle awaken Rosy and she gasps in fright. The murderous pimp realizes that he just killed the wrong woman, and slowly makes his way to Rosy's bed. However, earlier that night, Rosy had placed a butcher knife under her pillow at Mary's suggestion. Rosy seizes the knife and stabs Frank with it as he's beginning to strangle her. Rosy drops the knife and breaks down in hysteria, surrounded by the two corpses of her former lovers.THE WURDALAKIn 19th Century Russia, Vladimir D'Urfe is a young nobleman on a long trip. During the course of his journey, he finds a beheaded corpse with a knife plunged into its heart. He withdraws the blade and takes it as a souvenir.Later that night, Vladimir stops at a small rural cottage to ask for shelter. He notices several daggers hanging up on one of the walls, and a vacant space that happens to fit the one he has discovered. Vladimir is surprised by the entrance of Giorgio (Glauco Onorato), who explains that the knife belongs to his father, who has not been seen for five days. Giorgio offers a room to the young count, and subsequently introduces him to the rest of the family: his wife (Rika Dialina), their young son Ivan, Giorgio's younger brother Pietro (Massimo Righi), and sister Sdenka (Susy Anderson). It subsequently transpires that they are eagerly anticipating the arrival of their father, Gorcha, as well as the reason for his absence: he has gone to do battle with the outlaw and dreaded wurdalak Ali Beg. Vladimir is confused by the term, and Sdenka explains that a wurdalak is a walking cadaver who feeds on the blood of the living, preferably close friends and family members. Giorgio and Pietro are certain that the corpse Vladimir had discovered is that of Ali Beg, but also realize that there is a strong possibility that their father has been infected by the blood curse too. They warn the count to leave, but he decides to stay and await the old mans return.At the stroke of midnight, Gorcha (Boris Karloff) returns to the cottage. His sour demeanor and unkempt appearance bode the worse, and the two brothers are torn: they realize that it is their duty to kill Gorcha before he feeds on the family, but their love for him makes it difficult to reach a decision. Later that night, both Ivan and Pietro are attacked by Gorcha who drains them of blood, and then flees the cottage. Giorgio stakes and beheads Pietro to prevent him from reviving as a wurdalak. But he is prevented from doing so to Ivan when his wife threatens to commit suicide. Reluntantly, he agrees to bury the child without taking the necessary precautions.That same night, the child rises from his grave and begs to be invited into the cottage. The mother runs to her son's aid, stabbing Giorgio when he attempts to stop her, only to be greeted at the front door by Gorcha. The old man bits and infects his daughter-in-law, who then does the same for her husband. Vladimir and Sdenka flee from the cottage and go on the run and hide out in the ruins of an abandoned cathedral as dawn breaks. Vladimir is optimistic that a long and happy life lies with them. But Sdenka is reluctant to relinquish her family ties. She believes that she is meant to stay with the family.Sdenka's fears about her family are confirmed when that evening, Gorcha and her siblings show up at the abandoned Abby. As Vladimir sleeps, Sdenka is lured into their loving arms where they bite to death. Awakened by her screams, Vladimir rushes to her aid, but the family has already taken her home, forcing the lover to follow suite. The young nobleman finds her, lying motionless on her bed. Sdenka awakens, and a distinct change is visible on her face. No longer caring, Vladimir embraces her, and she bites and infects him too.THE DROP OF WATERIn Victorian London, England, Nurse Helen Chester (Jacqueline Pierreux) is called to a large house to prepare the corpse of an elderly medium for her burial. As she dressed the body, she notices an elaborate diamond ring on its finger. Tempted by greed, Nurse Chester steals it. As she does, a glass tips over, and drops of water begin to splash on the floor. She is also assailed by a fly, no doubt attracted by the odor of the body. Unsettled but pleased by her acquisition, she finishes the job and returns home to her small East End flat.After returning home, Nurse Chester is assailed by strange events. The buzzing fly returns and continues to pester her. Then the lights in her apartment go out, and the sounds of the dripping water continues with maddening regularity. She sees the old womans corpse lying on her bed, and coming towards her. The terrified woman begs for forgiveness, but she ultimately strangles herself, imaging that the medium's hands are gripping her throat.The next morning, the concierge (Harriet White Medin) discovers Nurse Chester's body and calls the police. The investigator on the scene (Gustavo de Nardo) quickly concludes that its a simple case and that Nurse Chester \"died of fright\". The pathologist arrives on the scene to examine the body before it's taken away and he notes that the only sign of violence is a small bruise on her left finger, mostly likely caused when someone pried a ring from her finger. As the doctor makes this observation, the concierge appears distressed, as she has apparently took the ring from the dead Nurse Chester, and is further distracted by the sound of a fly swooping about in the air....Boris Karloff makes a final appearance as Gorcha riding on his horse as he concludes the three tales of fear and tells the viewers to be careful while walking home at night for ghosts and vampires have no fear. The image pulls back to actually reveal him sitting on a prop fake horse with a camera crew and various crewmen moving branches around to simulate the scene of riding through the forest from the Wurdalak segment.\n",
      "Tags: ['cult', 'horror', 'gothic', 'murder', 'atmospheric']\n",
      "--------------------------------------------------\n",
      "Candidate 7:\n",
      "Title: Mitt liv som hund\n",
      "Plot: The action takes place in the years 1958-1959 in Sweden. Troubled 12 year-old Ingemar (Anton Glanzelius) gets into all sorts of trouble, which bothers his mother (Anki Lidén); Ingemar does not know that his mother is in fact terminally ill. When he and his older brother become too much for her, they are split up and sent to live with relatives. Ingemar ends up with his maternal uncle Gunnar (Tomas von Brömssen) and his wife Ulla (Kicki Rundgren) in a small rural town in Småland. Gunnar and Ingemar bond over Povel Ramel's recording of \"Far, jag kan inte få upp min kokosnöt\".\n",
      "In the town he encounters a variety of characters. Saga (Melinda Kinnaman), an assertive tomboy his own age, likes him, and shows it by beating him in a boxing match. Among the more eccentric residents is Fransson (Magnus Rask), a man who continually fixes the roof of his house, and Mr. Arvidsson (Didrik Gustavsson), an old man living downstairs who gets Ingemar to read to him from a lingerie catalog.\n",
      "Later, Ingemar is reunited with his family, but his mother soon takes a turn for the worse and is hospitalized. He and his brother go to stay with their uncle Sandberg (Leif Ericson) in the city, but his wife thinks the boy is mentally disturbed. After his mother passes away, he is sent back to Småland.\n",
      "Mr. Arvidsson has died in the interim; Gunnar and Ulla now share the house with a large Greek family. Gunnar welcomes him and consoles him as best he can, but the house is so crowded, he has Ingemar live with Mrs. Arvidsson in another house. Meanwhile, Ingemar becomes the object of contention between Saga and another girl. When they start fighting over him, he grabs onto Saga's leg and starts barking like a dog. She becomes upset by his strange behavior and gets him into the boxing ring. During the bout, out of spite, she tells him that his beloved dog (which he had thought was in a kennel) was actually euthanized. This, along with his mother's death, is too much for him and he locks himself inside Gunnar's one-room \"summer house\" in the backyard. While secluded here, Ingemar reflects on the death of his mother, the loss of his dog and a changing world. Ingemar uses the experiences of others and of his own personal loss to reconcile a life which is sometimes tough.\n",
      "Throughout the film, Ingemar tells himself over and over that it could have been worse, reciting several examples, such as a man who took a shortcut onto the field during a track meet and was killed by a javelin and the story of the dog Laika several times, the first creature sent into orbit by the Russians (without any way to get her back down).\n",
      "The film ends with the radio broadcast of a famous heavyweight championship boxing match, between Swede Ingemar Johansson and American Floyd Patterson. When Johansson wins, the whole town erupts with joy, but the now-reconciled Ingemar and Saga are fast asleep together on a couch.\n",
      "Tags: ['cult', 'prank']\n",
      "--------------------------------------------------\n",
      "Candidate 1:\n",
      "Title: Dungeons & Dragons: The Book of Vile Darkness\n",
      "Plot: Two thousand years ago, Nhagruul the Foul, a sorcerer who reveled in corrupting the innocent and the spread of despair, neared the end of his mortal days and was dismayed. Consumed by hatred for the living, Nhagruul sold his soul to the demon Lords of the abyss so that his malign spirit would survive. In an excruciating ritual, Nhagrulls skin was flayed into pages, his bones hammered into a cover, and his diseased blood became the ink to pen a book most vile. Creatures vile and depraved rose from every pit and unclean barrow to partake in the fever of destruction. The kingdoms of Karkoth were consumed by this plague of evil until an order of holy warriors arose from the ashes. The Knights of the New Sun swore an oath to resurrect hope in the land. The purity of their hearts was so great that Pelor, the God of Light, gave the Knights powerful amulets with which to channel his power. Transcendent with divine might, the Knights of the New Sun pierced the shadow that had darkened the land for twelve hundred years and cast it asunder. But not all were awed by their glory. The disciples of Nhagruul disassembled the book and bribed three greedy souls to hide the pieces until they could be retrieved. The ink was discovered and destroyed but, despite years of searching, the cover and pages were never found. Peace ruled the land for centuries and the Knights got lost in the light of their own glory. As memory of the awful events faded so did the power of servants of Pelor. They unwittingly abandoned themselves in the incorrect belief that the Book of Vile Darkness could never again be made whole.Now, the remaining pieces have been discovered, and an ancient evil is attempting to bring them together and restore the relic and the evil it brought. But at the same time a potential new paladin has been named to the Knights of the New Sun to attempt to renew their power to fight this evil. But, to do so, he may need to go against all that he has held dear, risking more that just his own soul in his quest to destroy the evil that surrounds him at every turn.\n",
      "Tags: ['violence']\n",
      "--------------------------------------------------\n",
      "Candidate 4:\n",
      "Title: Flightplan\n",
      "Plot: Kyle Pratt (Jodie Foster) is a propulsion engineer based in Berlin, Germany. Her husband David (John Benjamin Hickey) died from falling off the roof of an avionic manufacturing building, and now Kyle and her six year-old daughter Julia (Marlene Lawston) are flying home to Long Island to bury him and stay with Kyle's parents. They fly aboard a passenger aircraft, an Elgin 474, which Kyle helped design. After falling asleep for a few hours, Kyle wakes to find that Julia is missing. After trying to remain calm at first, she begins to panic, and Captain Marcus Rich (Sean Bean) is forced to conduct a search. Kyle walks the aisles, questioning people, but none of her fellow passengers remember having seen her daughter. One of the flight attendants calls in to the airport they just departed from and, shockingly, the gate attendant says that they have no record of Julia boarding the flight. In addition, according to the passenger manifest, Julia's seat is registered empty. When Kyle checks for Julia's boarding pass, it is missing.Marcus refuses to allow the cargo hold to be searched because the searchers could be hurt if the plane shifted due to turbulence. Both Marcus and the other crew members suspect that Kyle has become unhinged by her husband's recent death, and has imagined bringing her daughter aboard. One flight attendant Stephanie (Kate Beahan) is exceptionally unsympathetic. Faced with the crew's increasing skepticism regarding her daughter's existence, Kyle becomes more and more desperate. Because of her increasingly erratic, panicked behavior, air marshal Gene Carson (Peter Sarsgaard) is ordered by Marcus to guard and handcuff her.Later on, Marcus receives a wire from the hospital in Berlin. It says that Julia was with her father when he fell off the roof, and she also died of internal injuries. Kyle furiously denies that, consistently claiming that she brought Julia aboard. The crew now believes she is delusional and she is brought back to her seat by Air Marshal Carson. A therapist (Greta Scacchi) on board tries to console her, causing Kyle for a moment to doubt her own sanity until she notices that a heart Julia had drawn earlier on the window next to her seat is real. Kyle is emboldened and convinces the therapist to let her use the bathroom. With her handcuffs now removed, she climbs into the upper compartment and sabotages the aircraft's electronics, deploying the oxygen masks and interrupting lighting. Some passengers brawl with the red herring Arab passengers on board. She uses the chaos to take an elevator to the lower freight deck. She desperately searches for Julia and finally opens her husband's casket to which she emotionally breaks down. Carson finds her and escorts her back.Kyle makes a final plea to Carson that she needs to search the plane upon landing. Carson considers for a moment, then \"goes to speak to the captain,\" against flight attendant Stephanie's command (they are landing), leaving the audience to momentarily believe he is sympathetic. Instead, he sneaks back into the freight deck to remove two small explosives and a detonator concealed in David's casket. He then climbs down to a part of the avionics section, revealing Julia is sleeping (presumably drugged) with her coat and backpack that no one could find. He attaches the explosives to the side of the platform and arms them. At this point, it is revealed that Carson, Stephanie, and the coroner in Berlin (Christian Berkel) are the antagonists and part of a conspiracy. Carson tells the captain that Kyle is a hijacker and is threatening to blow up the aircraft with explosives hidden in the un-X-rayed casket unless the airline transfers $50,000,000 into a bank account. It is revealed that the conspirators killed Kyle's husband and abducted Julia in order to frame Kyle. Carson tells an unnerved Stephanie that he intends to blow up the aircraft's avionics section, killing the unconscious Julia, and leave Kyle dead with the detonator in her hand.After making an emergency landing at Goose Bay Airport in Goose Bay, Labrador, the passengers exit the aircraft as the tarmac is surrounded by U.S. Federal Bureau of Investigation (FBI) agents (though the airport is properly Royal Canadian Mounted Police jurisdiction). As the captain is leaving, Kyle runs to speak to him with Carson in tow. The captain demands she give up her charade, revealing Carson's deception. Quickly playing the role of hijacker, Kyle demands that Carson stay on board and the crew disembark.As soon as the plane's door closes, Kyle knocks Carson unconscious with a fire extinguisher, handcuffs him to a rail, and takes the detonator from his pocket. Stephanie comes out of hiding and Kyle screams \"she's in avionics isn't she?\" Carson quickly regains consciousness and fires at Kyle with a concealed gun, sending her running. He chases after Kyle shooting, until she locks herself in the cockpit. He reveals his conspiracy to talk her out. She opens a hatch door to the upper level and throws out a binder to fool him. Carson hears the upstairs thud and leaves. Kyle exits and encounters a guilt-ridden Stephanie slapping her palm with a large flashlight. Kyle talks her down and punches her out. Stephanie panics and flees the plane, abandoning Carson who looks on.Kyle during this time searches avionics and finally finds the unconscious Julia. Carson soon follows, and while searching, tells her how he gagged and dumped her daughter into the food bin. He disparages the people aboard who would never care enough to notice. Carson points his gun to where Julia lay before, but they're not there. He turns around and sees Kyle carrying Julia, escaping through a small door with the detonator in hand. Carson shoots at her as she closes the door. She detonates the explosives, killing Carson. The compartment she and Julia hid in was non-combustible, which keeps them safe. Kyle, carrying Julia, exits via a cargo door. Everyone watches in shock and amazement as Kyle carries her daughter out onto the tarmac.Later in the passenger waiting section of the airport, Marcus apologizes to a seated Kyle holding Julia in her arms. Stephanie is led away by FBI agents and more agents approach Kyle, asking her to identify the morgue director in Berlin who has been detained. She carries Julia still unconscious through the crowd of passengers, silently redeeming herself. One of the Arab passengers (Michael Irby) helps pick up her bag, a symbolic act of respect and forgiveness. Before loading her daughter into a van to take them away, Julia wakes up and sleepily asks \"Are we there yet?\" as they drive away.\n",
      "In this movie appears Christian Berkel who will later play the role of Fritz Shimon Haber in Haber.\n",
      "Tags: ['mystery', 'suspenseful', 'action', 'murder', 'flashback']\n",
      "--------------------------------------------------\n",
      "Candidate 2:\n",
      "Title: Mr. Holland's Opus\n",
      "Plot: Glenn Holland, not a morning person by anyone's standards, is woken up by his wife Iris early one bright September morning in 1964. Glenn has taken a job as a music teacher at the newly renamed John F. Kennedy High School. He intends his job to be a sabbatical from being a touring musician, during which he hopes to have more \"free time\" to compose. However, he soon finds that his job as a teacher is more time-consuming than he first thought.As he arrives at the school for the first time, he meets Vice Principal Wolters, who comments on his Corvair, the model of car the Ralph Nader wrote a book about. Inside the building, he meets Principal Helen Jacobs. Having got off to an awkward start with both of them, he goes to the music room and meets his students for the first time. The students are dull, apathetic, and mostly terrible musicians. At lunchtime, he meets the football coach, Bill Meister, and strikes up a friendship with him. At the end of his stressful first day, Glenn and Iris talk about their future. If everything goes according to plan, between his paychecks and what she made with her photography, he should be able to quit in four years and go back to his music, including composing.Glenn notices one dedicated but inept clarinet player, Gertrude Lang, and starts working with her individually. He continues attempting to teach the class about music and continues working on his music at home as time passes. Grading papers gradually replaces working on his own music during his home time, much to his chagrin. After several months, Glenn grows exasperated when it seems that none of his students have learned anything from his classes. Gertrude, despite diligent practice, does not improve her clarinet-playing. Glenn's exasperation is further compounded when the Principal Jacobs chastises him for not focusing properly on his students. She has noticed that he is even happier to leave at the end of each day than most of the students. Later, Glenn expounds his frustration to Iris, who then informs him that she's pregnant. Glenn is dumbstruck, and his muteness upsets Iris. To comfort her, he tells her a story about how he discovered John Coltrane (his favorite musician) records as a teenager, the point being he could get used to this turn of affairs.After some soul-searching, Glenn decides to try some unconventional methods of teaching music appreciation, including the use of 'Rock and Roll' to interest students, demonstrating to them the similarities between Bach's \"Minuet in G\" and rock-and-roll in the form of the Toys' \"Lovers Concerto\". For the first time, the students are interested in the class, and Glenn appears much happier as he relates this to Iris as they assemble a crib. Their apartment is getting more and more crowded, and Glenn suggests that they get a house. Iris is overjoyed, even though it means using their savings and Glenn sacrificing his summer vacation, which he intended to use to work on his composing, in order to make extra money teaching Driver's Ed. Glenn does right by his family but he knows he can forget about getting out of the teaching gig for the foreseeable future.Continuing his new, unorthodox teaching methods, he finally gets Gertrude, who was on the verge of giving up, to have a breakthrough and become a more skilled clarinet player. She rediscovers her joy of playing, and the now-competent band go on to play at the 1965 graduation. Summer vacation begins, and Glenn follows through on his plan to teach Driver's Ed, having a series of near-death experiences at the hands of new drivers. Glenn and Iris move into their new house. Soon, we see the Driver's Ed car once again, except this time it is Glenn himself driving like a maniac, breaking every traffic law - so that he could get to the hospital to see his newborn son, Coltrane (\"Cole\") Holland.Glenn's unorthodox teaching methods do not go unnoticed by Principal Jacobs, or Vice-Principal Wolters. They, along with the conservative School Board and the parents of the community, are hostile to rock-and-roll. Glenn is able to convince the principal that he believes strongly that teaching the students about all music, including rock-and-roll, will help them appreciate it all the more. The principal and vice principal also hand him a new assignment, to get a marching band together for the football team. Glenn is at a loss with this concept, until his Bill Meister agrees to help, in exchange for Glenn putting one of his football players, Louis Russ, in the band to allow him to earn an extra curricular activity credit, which he needs in order to stay eligible for the sports teams. Louis knows absolutely nothing about music, but takes up drums. He has trouble keeping time and always finds himself out of place with the rest of the band.Later, Glenn and Bill are chatting while playing chess. Bill, a bachelor, wants to know about Glenn's stories of debauchery as a traveling musician, but Glenn doesn't want to talk about the past, as he is a different person in a different time. Glenn instead tells Bill he is pessimistic about Louis Russ. Bill encourages him to keep trying. Much as he worked with Gertrude earlier, Glenn starts working one-on-one with Louis, helping to get a feel for the tempo of music. After some hard work, Louis gets it, and later, he marches with the band in the local parade, much to the delight of his family.Immediately behind the Kennedy band in the parade is a fire engine, and its deafeningly loud horn catches everyone by surprise. Iris looks into Cole's stroller to check on him, but the noise hasn't awakened Cole - the boy is deaf. The revelation drives a wedge between Glenn and his son, as it seems that his son cannot understand what he does. A more somber Glenn teaches his students about Beethoven, the deaf composer.Time passes, and we see a montage of events from the late '60s, as Glenn picks away as his composition a little at a time and watches Iris work with Cole. We stop again in the early '70s, with Glenn still directing his high school band. Cole is old enough to enter school. Because of her mounting frustration with her inability to communicate with Cole, she insists on sending him to a special school for the deaf, whatever the cost. The three of them visit the school. Glenn winces at the cost, but they enroll Cole and set about to learn sign language themselves, though Iris puts more effort into it than Glenn.Apathetic students still go through Glenn's classes, and one of them, named Stadler, is stoned. Glenn is chewing him out when Glenn receives bad news. He tells Stadler to meet him on Saturday. On that day, they appear at a funeral. Louis Russ has come home from Vietnam after being killed in action. Coach Meister is there, and he and Glenn mourn. At the end of that academic year, Bill reveals that he finally has a steady girl-friend, and Principal Jacobs retires from the high school, praising Glenn for what he has done.We see another montage of events, this time in the 1970s. Glenn continues teaching Driver's Ed in the summer. We see the class of 1980 being welcomed back, suggesting that it is now September 1979. Glenn and Bill Meister team up to help the Drama Department, when it is rumored that funding may be pulled. Glenn and Bill tell Wolters, now the principal, have an idea to be certain the school will make money rather than lose it; it will be a musical revue of Gershwin classics. During auditions for the musical revue, Glenn becomes entranced and interested in a talented young singer named Rowena Morgan. At home, the teenage Cole comes home and tells Glenn about the science fair, which Glenn missed. Iris is fluent at sign language now, but Glenn is still only fair. Iris reproaches him for spending so much time with the school projects and the students while neglecting his own son. Glenn is frustrated, realizing that his own musical composing has been on the back burner for 15 years now.Rowena visits Glenn at a diner, where he has gotten into the habit of going to get out of the house and have someplace quiet to work. Unknown to Iris, Glenn writes a small piece that he titles \"Rowena's Theme,\" and takes an interest when Rowena states that she wants to leave town and go to New York to sing professionally. Glenn's life at home is still strained. Iris agrees to come to the school play on Saturday, because she had a meeting with Cole's teachers on opening night (Friday).The school revue arrives at last, and is a big hit, playing to a packed house. In the audience we see Coach Meister wearing a ring (he married the woman we saw earlier), and Sarah, the drama teacher, shows Principal Wolters something on a new invention, a handheld calculator (presumably, showing him how much gate money made it into the school coffers, as Wolters looks impressed). After the revue, Rowena comes to see Glenn in the auditorium, and she tells him she intends to pursue her dream of singing by going to New York the very next night, after the second and last performance of the revue. Glenn is taken aback. Rowena hints that she'd like Glenn to come with her. Glenn goes home and looks at his photo album, looking at pictures of his family and pictures of his old life as a traveling musician, now half a lifetime in the past. He is tempted to leave everything behind and go with Rowena to restore his old life as a musician. However, he realizes he is no longer the same person as he was then. He visits Rowena at the bus stop and sees her off, giving her the names of someone in New York who will help her find lodging. Glenn watches her depart, and goes home, content in his love for Iris.The timeline then shifts to late 1980, when John Lennon is killed. Glenn goes home and finds Cole working on Glenn's old Corvair. When Cole asks what is wrong, Glenn tries to explain, but then gives up, feeling that his son wouldn't understand John Lennon or his music. This infuriates Cole who (through Iris), explains that he does care about Glenn and knows about John Lennon, but that Glenn does not seem to be at all interested in communicating with him. Cole berates his father for putting so much effort in to teaching his students and very little towards him, calling him an asshole in sign language as he stalks off. Glenn then makes an effort, and even provides a concert at the high school, which also features lights and other items to enhance the show for deaf members of the school where Cole attends. Glenn, having become somewhat more proficient in sign language, even does an interpretation of Lennon's song 'Beautiful Boy,' dedicated to Cole. Later, Glenn discovers Cole listening to records by sitting on the speakers and feeling the vibrations through his body, and they can start healing the rift between them, even as Glenn's composition continues to gather dust.Time passes. It's now 1995. Glenn goes to see Principal Wolters, who announces that Art, Music and Drama have been cut from the school curriculum, and Glenn would be out of a job shortly. Glenn, who has become a cynical old man, tells Wolters that to cut the fine arts would lead to a generation of students who would be proficient at reading and writing and math (maybe) but would have nothing to read or write about. Wolters offers to write Glenn a reference, but Glenn, who is now 60 years old, fully recognizes the futility of the gesture. His working days are over and he knows it. Then he looks up at the picture on the wall of the long-departed former Principal Jacobs. He says Jacobs would have fought the budget cuts, and he will too. Glenn pleads to the school board to reconsider, but they refuse.At home, Iris reads a letter from the now-grown Cole. He has become a teacher himself, and was considering an offer from a university for the deaf in Washington, D.C. He also has taken Glenn's old car, the Corvair that we saw at the beginning and that Cole was working on in his teens, and jokingly writes that he will never give it back. Despondent, Glenn walks through the school on his last day, and he talks to Coach Bill, whose job as football coach is safe, though he can't be far from retirement himself. Glenn figures that he will bring in some money teaching piano lessons on the side, but he's unprepared to be forced into early retirement.On Glenn's final day at the school, Cole shows up driving the Corvair. School's out for him, too. Glenn is surprised when Iris and Cole lead him to the school auditorium, where they have organized a surprise going-away celebration for him. He sees many of his former students in the audience, including Stadler, the pothead from years before. Arriving next is Gertrude Lang, the clarinetist who Glenn helped in the 60s, who has since become the state's governor. Gertrude thanks Glenn for his dedication, and Glenn is very moved. He is moved to tears when she gives him a baton and asks him to conduct his own composition, which she had got hold of. The curtains open and a band, filled with more of Glenn's former students, is assembled and ready to play. Governor Lang picks up her clarinet and takes her place among them, and they play, for the first time, the musical Opus that Glenn had been picking away at for three decades.\n",
      "Tags: ['inspiring', 'romantic', 'stupid', 'feel-good']\n",
      "--------------------------------------------------\n",
      "Candidate 3:\n",
      "Title: Baise-moi\n",
      "Plot: Baise-moi tells the story of Nadine and Manu who go on a violent spree against a society in which they feel marginalized. Nadine is a part-time sex worker, and Manu a slacker who does anything—including occasional porn film acting—to get by in her small town in southern France.\n",
      "One day, Manu and her friend, a drug addict, are accosted in the park by three men, who take them to a garage and gang-rape them. While her friend struggles, screams, and fights against the rapists, Manu lies still with a detached look, which troubles the man raping her, who soon gives up. When her friend asks Manu how she could act so detached, she replies that she \"can't prevent anyone from penetrating her pussy\", so she didn't leave anything precious in there. Manu then returns to her brother's house, and does not tell him what has happened, but noticing bruises on her neck, he realizes. He gets out a gun and asks Manu who was responsible, but when she refuses to tell him, he calls her a \"slut\" and implies that she actually enjoyed being raped. In response, picking up the discarded pistol, Manu shoots him in the head.\n",
      "Meanwhile, Nadine returns home and has an argument with her roommate, whom she strangles and kills, before leaving with their rent money. Nadine suffers another emotional setback when she meets her best friend, a drug dealer, in another town, but he is shot and killed while out obtaining drugs with a prescription she forged for him.\n",
      "Later that night, having missed the last train, Nadine meets Manu at the railway station. Manu says she has a car, if Nadine will drive for her. They soon realize that they share common feelings of anger, and embark on a violent and sexually charged road trip together.\n",
      "In need of money, the girls hold up a shop and also kill a woman at a cash machine. In a stolen car, they are pulled over for a random check by police, whom they kill. Another woman, who was also being checked and saw the murders, flees with them. The women stay over at their new friend's house, whose brother provides the address and details of an architect with whom he has had trouble. The women trick their way into the architect's house and kill him. Finally, after this spree of murder and sexual activity, the two women enter a swingers' club. One of the patrons makes a racist comment to Manu. The women kill most of the patrons there, and use a gun to anally penetrate the racist man, finally shooting him. The pair discuss what they have done, and agree that it has all been pointless because nothing has changed in them.\n",
      "During their spree, the duo's crimes are reported by the press, and become a point of fascination for the entire country, with some people actually supporting them, and others afraid of them. When Manu enters a roadside tire shop to get some coffee, she is shot by the shop owner, who is then shot by Nadine outside. Nadine takes Manu's body to a forest and burns it, before driving to a beach. With tears in her eyes, Nadine puts the gun to her head, intending to commit suicide, but gets arrested by the police before she can do so.\n",
      "Tags: ['gothic', 'cruelty', 'violence', 'cult', 'revenge', 'sadist']\n",
      "--------------------------------------------------\n",
      "Candidate 5:\n",
      "Title: Little Caesar\n",
      "Plot: Small-time Italian-American criminals Caesar Enrico \"Rico\" Bandello (Edward G. Robinson) and his friend Joe Massara (Douglas Fairbanks, Jr.) move from New York to Chicago to seek their fortunes. Rico joins the gang of Sam Vettori (Stanley Fields), while Joe wants to be a dancer. Olga (Glenda Farrell) becomes his dance partner and girlfriend at the local taxi dance club.Joe tries to drift away from the gang and its activities including running several speakeasys and illegal gambling casinos, but Rico (whom the gang now refers to by his nickname 'Little Caesar') makes him participate in the robbery of the nightclub where he works. Despite orders from underworld overlord \"Big Boy\" (Sidney Blackmer) to all his men to avoid bloodshed, Rico guns down crusading police crime commissioner Alvin McClure during the robbery, with Joe as an aghast witness.Rico accuses Sam of becoming soft and seizes control of his organization. Rival boss \"Little Arnie\" Storch (Maurice Black) tries to have Rico killed, but Rico is only grazed by a bullet during a drive-by shooting. Rico and his gunmen pay Little Arnie a visit, after which Arnie hastily departs for Detroit. The Big Boy eventually gives Rico control of all of Chicago's Northside.Some months later, Rico becomes concerned that Joe knows too much about him. He warns Joe that he must forget about Olga, and join him in a life of crime. Rico threatens to kill both Joe and Olga unless he accedes, but Joe refuses to give in. Olga calls Police Sergeant Flaherty and tells him Joe is ready to talk, just before Rico and his henchman Otero (George E. Stone) come calling. Rico finds, to his surprise, that he is unable to take his friend's life. When Otero tries to do the job himself, Rico wrestles the gun away from him, though not before Joe is wounded. Hearing the shot, Flaherty and another cop give chase and kill Otero. With the information provided by Joe, Flaherty proceeds to crush Rico's organization.Desperate and alone, Rico retreats to the gutter from which he sprang. A few weeks later, while hiding in a flophouse, he becomes enraged when he learns that Flaherty has called him a coward in the newspaper. He foolishly telephones the cop to announce he is coming for him. The call is traced to the phone booth where Rico is. He runs from the police and hides behind a large billboard. Refusing to surrender, Flaherty personally shoots at the billboard with a tommy gun. Ironically, the billboard shows an advertisement featuring dancers Joe and Olga. The police walk around the billboard to find Rico dying on the ground who with his last breath mutters, \"Mother of mercy... is this the end of Rico?\"\n",
      "Tags: ['violence']\n",
      "--------------------------------------------------\n",
      "Candidate 9:\n",
      "Title: Cassandra's Dream\n",
      "Plot: Brothers Terry (Colin Farrell) and Ian (Ewan McGregor), who live in South London, were raised by a weak father Brian (John Benfield) who runs a restaurant, and a strong mother Dorothy (Clare Higgins) who taught her sons to look up to their uncle Howard (Tom Wilkinson), a successful plastic surgeon and businessman.\n",
      "The brothers buy a sailboat at an oddly low price, despite its near pristine condition. They name it Cassandra's Dream, after a greyhound that won Terry the money to buy the boat. Knowing nothing of Greek mythology, they are unaware of the ominous antecedents of this name—the ancient prophetess Cassandra, whose prophecies of doom went unheeded by those around her.\n",
      "While driving home from a day's sailing in a borrowed car, Ian crosses paths with beautiful actress Angela Stark (Hayley Atwell), with whom he becomes infatuated.\n",
      "Terry has a gambling addiction that sinks him deeper in debt. Ian wishes to invest in hotels in California to finance a new life with Angela. To overcome their financial issues, they ask Howard for help. He agrees to help them, but asks for a favor in return: they must murder someone for him. Howard faces imprisonment for unspecified crimes and his future is threatened by Martin Burns (Phil Davis), a former business partner who plans to testify against him. Howard asks his nephews to get rid of Burns, and in return he will reward them financially. After initial reluctance, the brothers agree.\n",
      "They make two zip guns, untraceable and easily destroyed. Lying in wait in Burns' home, their plan is foiled when Burns arrives with a woman. Their resolve shaken, they leave and agree to commit the murder the next day.\n",
      "The next day, they succeed in carrying out the murder and later destroy the guns. Ian is content to move on as if nothing happened, but Terry is consumed by guilt and begins abusing alcohol and other drugs. His behavior frightens his fiancée (Sally Hawkins), who tells Ian about the situation and that Terry believes he has killed someone. After Terry confides that he wants to turn himself in to the police, Ian goes to Howard for advice. They agree there is no alternative but to get rid of Terry. Ian plans to poison Terry during an outing on the boat. Ian can't bring himself to kill his own brother, and attacks him in a fit of rage. In the chaos, Terry knocks Ian down the steps into the cabin, killing him.\n",
      "The boat is later discovered adrift by the police, and the audience learns that Terry snapped and drowned himself after killing his brother. The last shot is of Cassandra's Dream, still in beautiful condition despite the tragedies it set in motion.\n",
      "Tags: ['tragedy', 'dramatic', 'murder']\n",
      "--------------------------------------------------\n",
      "Candidate 6:\n",
      "Title: Savages\n",
      "Plot: The movie begins with a video being shot of men with their hands tied behind their backs. An enforcer, who we learn later is Lado (Benicio Del Toro) wears a skull Lucha libre mask and runs a chainsaw.Next, there is a shot of an attractive young blonde woman named 'O' (short for Ophelia, played by Blake Lively) as she narrates in a voice-over. The love of her life is two men: Ben (Aaron Johnson) and Chon (Taylor Kitsch). To her, Ben is like warm wood, the idealistic Buddhist; Chon is steel, the baddhist. O is in a polyamorous relationship with both men, and the three live together in Laguna Beach, California in a luxurious cliff-side house for which Ben paid with cash. Ben and Chon are high school buddies. Ben went to Berkeley and majored in business and botany. Chon was a Navy Seal with tours of duty in Iraq and Afghanistan. One day, lounging on the beach, Ben asks Chon where you can get the best weed. Chon replies Afghanistan, and during a tour there, smuggles out hashish/marijuana seeds from which Ben grows in a greenhouse, using his scientific knowledge, cannabis with a THC yield of 33%, \"the best in the world.\" They met O when they hired her to help with managing the greenhouse. Ben is the businessman who runs the production and distribution and handles 99% of the business, while Chon handles the 1% (enforcement). Ben's philosophy is to provide what people want, but Chon is the realist in seeing the money made from marijuana. Ben does a lot of humanitarian work, and sells to marijuana clubs and dispensaries, for medical usage, but most of the money is made from selling on the street, where it goes for about $6,000 a pound.After making love to O, Chon sees on his computer an e-mail. The e-mail has a video of Lado kicking around the decapitated heads and reads: \"These guys were stupid. Be smarter We need to talk.\" O and Chon greet Ben returning from a volunteerism trip to Africa. Chon and Ben discuss the business. Ben wants to give up the business to the Mexican cartel as he wants to go into philanthropic ventures such as making $10 solar panels, and he admits he's afraid of the cartel. But Chon argues that selling would show weakness, and once they do this, the cartel would usurp their whole lives.We see Lado and his 'gardening crew' carry out a hit. Lado accosts a middleman (Shea Whigham) in his home. The middleman pleads forgiveness and promises an even better deal than paying up. He calls El Azul (Joaquin Cosio) (Spanish for The Blue), a cartel head honcho, to connect him with Lado, but Lado shoots the middleman and has a teenage cartel-member-in-training, Esteban, shoot the middleman's wife, while El Azul is on the phone, enraging him. The gardening crew smuggles the bodies out of the house in trash bins. We learn that El Azul is a former inside man with the Baja cartel, the cartel Lado works for. The head of the Baja cartel, Elena Sanchez (Salma Hayek), had a falling-out with El Azul, and now El Azul is encroaching on the Baja cartel's territory, threatening to take over her position.Meanwhile, Ben and Chon meet with Dennis (John Travolta), a corrupt DEA agent on Ben and Chon's payroll. Dennis tells them about the Baja cartel: they want Ben and Chon's market to fill a market they don't have. Dennis urges them to take the deal instead of decapitation; he reminds them that times are changing and they need to adapt. Dennis is sympathetic to them because his wife has cancer and Ben provides him with cannabis to ease the effects of her chemotherapy.Ben and Chon go to a hotel room and meet with Alex (Demian Bichir), the representative for Elena. The meeting is secretly video-recorded by Lado, with the video feed shown to Elena in her Tijuana compound.Alex lays out the deal: a contract of three years of working together, during which the cartel will learn Ben's horticulture methods while providing vast distribution networks and the operation in a safe haven on an Indian reservation that the cartel owns. (The Indian reservations are considered out of U.S. jurisdiction.) During the meeting, Chon badmouths the cartel's products by saying \"I think, basically, you want us to eat your shit and call it caviar.\" Ben and Chon step out into balcony to discuss. We see that a formidable security apparatus, a team of Chon's ex-Navy Seal friends, who have sniper wares trained on the hotel room, backing them. Chon had planned to take out Alex and his men, but Ben talks him out of it. Ben and Chon reach a decision. They will turn over their business to the Cartel, but not join them. The cartel is not happy. (Apparently, no one says 'no' to the Baja cartel.)Fearing the consequences of their decision, Ben meets with his money guy, Spin (Emile Hirsch), an ex-Goldman Sachs banker who launders and invests the marijuana company's money. Ben wants to set up funds to disappear for three years in Indonesia. Ben, Chon, and O have dinner and discuss the plan for their new lives. Unbeknownst to them, they are being watched in the restaurant by Lado's crew. The three celebrate by getting high in their beach house and having a threesome. Lado sits in the car, spying on them. He calls Elena to update her on the situation. Elena says she needs Ben and Chon to join her for their expertise. Hearing about their living situation, she found their weakness: O.The next day, the three prepare to leave for Indonesia. O wants to do a last minute shopping trip and Chon assigns someone from the security team for her. O is driving to South Coast Plaza (an upscale mall in Orange County), but one of Lado's men intercepts the bodyguard and kills him. They tail O. In one scene, O is shopping next to a girl who is talking on a cellphone, answering her mom's questions about college life. Her mom turns out to be Elena.Returning home but not finding O, Ben and Chon hear a chime indicating a Skype call, and to their horror, see a live web feed of the kidnapped O. Elena, her voice masked, reprimands the boys for not complying with the deal. To redress the insult of the cartel's product during the meeting, Elena has Chon put a gun into his mouth, indicating she will tell Lado to cut off two of O's fingers otherwise. She almost gets Chon to pull the trigger but stops him at the last minute, telling him this will clean up his mouth.Elena tells Ben and Chon to deliver 300 pounds of their marijuana in five hours to show compliance. They get the product and race to Chula Vista. They arrive just in time despite being almost pulled over (and Chon almost having to kill the highway patrolman). Lado and his men take their car. Ben and Chon drive back in Lado's truck, which contains the suitcase of money (they paid in full, Ben and Chon note) and a cell phone. Elena calls, her voice unmasked, and tells them that she will hold O hostage for one year to make sure they comply with all of her demands. Chon argues with Ben that they have to fight to get O back -- the cartel members are savages who will kill them anyway. But Ben just wants peace and O back.Ben and Chon meet again with Dennis, who tells them about the conflict between Elena and El Azul. Chon strong-arms Dennis into getting data on Elena and the Baja cartel from the DEA. He is able to get 60 days of financial transactions, encoded onto two credit cards. Dennis also tells them that two of Elena's sons and her daughter (Magdalena), are dead. Back in their company HQ, Ben and Chon have Spin and his experts look into the financial data on the computer. From it, they trace Elena's financial routes. They figure out that one of her real-estate holdings, a trailer house, is a drop off point for the cartel's business. Ben decides on a plan to pay to get O back. He and Elena negotiate to a $13 million ransom. They decide to hijack the drop to get the cash for O's ransom, and make it look like El Azul hit the cartel.The hijacking gets underway. Wearing masks, Chon and his team of ex-Navy Seals blow up the front car in a convoy with IEDs. When the men from the trailer retaliate, an ex-Navy Seal member takes them out with RPG rockets. Chon forces the men out of the car carrying the cash by putting a grenade in the gas tank. He takes the briefcase from a man scrambling out of the car. Ben is horrified by the killings. One of the cartel members is about to shoot Ben, but Chon shoots the member in the back, spraying blood on Ben's mask. They take the money and get away. Alex and Lado arrive to assess the damage, which is 3 million dollars gone and seven men dead. Lado urges Alex not to inform Elena of the loss because he wants to recover the money and rectify the situation himself and because he fears Elena.Ben and Chon get a message to have Ben meet with Alex and Lado. Alex and Lado interrogate Ben to find out their whereabouts during the hijacking but Ben plays it cool. He insinuates that it could be Lado's men. After Ben leaves, Alex decides Ben and Chon don't have the balls for the attack. He suspects El Azul but Lado isn't so sure.We see O at the shack where they are holding her. She is being watched over by Esteban. Her living conditions are bad: one of her legs is chained to a chair, she has a bucket for bathroom and sleeps on a spring bed in a cage. She pleads into the surveillance camera and gets to talk to Elena, and begs her for some concessions. Elena asks O how long she has been using. Since 8th grade, O says, not that her mother cared. Later we see Lado feeding O a steak, and later, giving O a drug fix, and her getting high. O is also given access to a laptop to send a fabricated email to her mother so she won't file a missing persons report on O. Afterwards, Lado tells Esteban, don't look at me like that (because we see later in the movie Lado shows O a cellphone video of him raping her while she was high).Elena's daughter, Magdalena (Sandra Echevarria) is seen having sex when she is interrupted by a phone call. Her mother is on the line, informing her that she is coming to California to visit. Elena gets on a private plane to the Indian reservation in order to avoid U.S. customs. Lado will follow her later, bringing O with him. Before boarding the plane, Lado tells Esteban that he's proven too sensitive to handle the work and proceeds to shoot and kill him.Upon arrival inCalifornia, Lado brings O to Elena. Elena immediately informs Lado that she knows about the hijacking, and chastises him for not telling her. She threatens Lado, telling him to recover the money and he informs her that he didn't tell her because he was trying to get proof that Ben and Chon were behind the hijacking.Ben has Spin fabricate documents and hack into Alex's bank accounts to frame Alex as the mole to El Azul. Ben confronts Lado with Alex's dossier in an effort to take the heat off of him and Chon. To save himself, Lado visits El Azul and makes a deal to work with him.At a posh spa, Elena and O have dinner during which we learn that Elena inherited the business after her husband was killed. Her twin sons and brothers are also killed, leaving two children who resent her and do not want her in their lives (her daughter and a third son). Elena tells O she likes her, but won't hesitate to kill Ben and Chon. When O remarks that only she can 'get Ben and Chon together,' Elena scoffs, telling O that her love story has a serious problem: Ben and Chon must love each other more than O because otherwise, they wouldn't share her.Later, Lado brings Ben and Chon to see Alex being whipped. The torture is video-fed to Elena who forces O to watch once he 'confesses.' Under the threat of his family being harmed, Alex confesses to working with El Azul. He begs Elena for forgiveness, citing the names of her husband and children. Lado douses Alex with gasoline and anoints Ben to be the executioner. To go through with the falsehood, Ben ignites Alex on fire. O watches in horror.The next morning, Ben and Chon walk along the beach where they discuss the night's events. Chon tries to justify what Ben did by referring to the Dalai Lama, but Ben brushes it off. Instead, he tells Chon that during Alex's plea to Elena, Alex swore on Magda's life; meaning that Elena's daughter is alive, and that Dennis knew this and hid it from him and Chon. They make a plan that will work even faster than accumulating the money for ransom: kidnap Elena's daughter and trade her for O.Lado pays Dennis a visit at his home. It turns out Lado also has Dennis on the payroll. Lado questions Dennis on the culprits behind the hijacking and Dennis assures him it was Azul. Lado informs Dennis that it can't be Azul because he's working with him now instead of Elena. Under threat, Dennis reveals that the hijackers are Ben and Chon, but that they are going to give the $3 million to Elena and not Lado. To head off Elena, Dennis tells Lado to kidnap Magda and sell her to Ben and Chon. Dennis is incredulous to learn that Elena is on U.S. soil.Dennis meets with Ben and Chon, who chew him out for giving them away to Lado. The boys offer Dennis the $3 million they stole in exchange for Magdalena's address. They kill her bodyguard, who is sitting outside her dorm in his car, then move inside, tying up her boyfriend and kidnapping her. Wearing masks as a show, they Skype with Elena and show a shivering Magda, tied up and stuffed in an ice box. Elena meekly agrees to their demands. At the end of the talk, O informs Elena that she knew her boys would come for her. Elena slaps O, then screams at everyone to get out. She drops to the ground, rips off her wig, and breaks down.Lado and his boys take O into another room, where she is chained to a chair. Lado makes everyone else leave the room, then he shows her the video he took when he raped her while she was drugged. She spits in his face, but he enjoys it, wiping himself off on her hair.Elena's SUV and Ben and Chon's SUV meet in an open field with their hostages. On the mountain ridges, each group has their sniper team in position. Elena steps into the open with O and releases her. O runs to Ben. Ben and Chon release Magda to Elena, who is told by her daughter that she will never speak to her again. Before Elena returns to her car, she asks Chon who the rat is. Chon smiles and nods toward Lado, who blows back a kiss. Elena turns around to shoot Lado, but Lado draws his gun and shoots her first. O, who was handed a gun by Ben, makes her way to Elena and wants to kill her, but relents when she sees Elena is already dying. Elena begs O to help Magda escape. O glares at Magda briefly before hustling her to safety.A massive shootout is underway. Each group's sniper team shoots at each other, taking out some members of each team. Chon kills Elena's bodyguards and Ben and Chon converge on Lado, hiding behind the SUV. Ben shoots Lado three times in the back, but Lado turns around to shoot Ben in the throat. Lado sprawls on the ground, severely wounded. O shoots Lado dead for revenge, and erases his phone. O rushes to Ben, seeing his wound is lethal. As O cradles Ben, Chon pulls out a syringe and injects Ben, O, and then himself with drug overdoses. They die in a triple suicide. \"That's the perfect ending,\" O narrates while looking into the sky as she dies.But wait... Rewind, as O mentions that this was just how she imagined it.What really happened, as O narrates, \"was more of a fuck-up than a shootout.\" After Elena steps out into the open and releases O, Lado retreats to the car and drives away. A helicopter and DEA agents led by Dennis swoop in to arrest Elena. The DEA agents disarm the sniper teams and arrest everyone (including Ben, Chon, and O).O narrates as we see a montage: Dennis is grandstanding on TV about Elena's arrest and the progress on the war on drugs (Indian grounds are still U.S. grounds he says); Elena goes to prison for 30 years, while Ben and Chon, who have enough information to put Dennis away, are released after a few weeks in a holding cell after Dennis said that they were confidential informants. Lado and El Azul form a new cartel to take over the vacuum left by Elena.After their release, O says that she, Ben, and Chon all vanished. Montages are shown of them living new lives in Indonesia, Africa, and other parts of the world. A few scenes show that they continue to remain in touch and get together, but most of the scenes strongly imply that for the most part, they've all gone their separate ways-- as O narrates, perhaps it's true that three people can't all be equally in love. She says that one day, perhaps they'll return to their pot business in Laguna, but for now, they live simple, even primitive lives, like 'beautiful savages.'\n",
      "Tags: ['revenge', 'neo noir', 'murder', 'violence', 'flashback']\n",
      "--------------------------------------------------\n",
      "Candidate 8:\n",
      "Title: The Brood\n",
      "Plot: At the Somafree Institute, Dr. Hal Raglan humiliates his patient Mike by saying: \"you're just a weak person. You must have got that from your mother. It probably would have been better for you if you had been born a girl!\" On the dimly lit stage, Raglan demands a demonstration of anger, and Mike reveals angry red blotches covering his torso. The audience gasps. Raglan announces that this is psychoplasmcis; the physical manifestation of mental rage by the appearance of the welts on one's body.Meanwhile, Frank Carveth collects his nine-year-old daughter Candy from a 'Private Guest Room'. Candy wears a red coat with fur trim and hood. Bathing her, Frank finds bruises and scratches on her back. He drives to the Somafree Institute to confront Raglan and demands to see his wife Nola, whom has been committed there. Raglan refuses. Frank accuses Nola of abusing their daughter and says he will stop Candy's next visit. Raglan threatens legal action if Frank withholds a vital part of Nola's treatment. Frank then goes to his lawyer, Al Resnikoff, who tells him that Nola has a stronger legal position despite the fact that she is committed to a mental hospital. Frank says that he will do what he has to. He takes Candy to her maternal grandmother, Juliana, who seems highly strung out.Back at the institute, Raglan goes into Nola's room (play-acting as Candy) and he asks her why she hurt her daughter Candice. Raglan/Candice says: \"Mummies don't hurt their own children\". Nola sobs that they do. She tells Raglan that her own mother was \"fucked up and bad\". Raglan encourages her anger by telling her: \"Go all the way through it, right to the end.\"That evening at Juliana's house, she investigates a noise in the kitchen. Food, juice, glasses and dishes are thrown all over the floor. She is bludgeoned by what appears to be a small child wearing a red hooded raincoat with fur trim. As Candy watches from behind a door, small claw-like hands leaves bloodstains on the banisters. The next morning at his workplace, Frank is informed of Juliana's murder. Police psychologist Dr. Birkin tells Frank so encourage Candy to remember what happened, a breakdown is possible if she doesn't remember. \"These things tend to express themselves in one way or another\" says Dr. Birkin.At the institute, Raglan speaks to Nola as her father. She quickly gets very angry saying: \"You shouldn't have walked way when she hit me.\" Red welts appear on Nola's forehead as she speaks.At the local airport, Frank and Candy meet Barton Kelly, Nola's estranged father, who has come for his ex-wife's funeral. On Resnikoff's advice, Frank visits Jan Hartog, an ex-Somafree patient taking legal action against Dr. Raglan. Uncovering a row of tumors on his neck, Hartog says bitterly: \"Raglan encourages my body to revolt against me. And it did. I have a small revolution on my hands and I'm not putting it down very successfully.\"Back at the institute, a drunk Barton Kelly arrives and is furious when Raglan will not allow him to see Nola. Meanwhile, Frank arrives at Candy's school where her teacher, Ruth Mayer, sits with her. Candy invites Ruth to dinner at her house. That evening, Ruth arrives and has dinner with Frank and Candy. A little later, Barton calls Frank from Juliana's house, saying he needs Frank's help to see Nola. Frank leaves Ruth babysitting Candy, who picks up a book to read which is titled 'The Shape Of Rage'. Raglan's book on Psychoplasmics.At Juliana's house, Barton is alone when the same small figure wearing the hooded red raincoat emerges from under his bed and batters him to a very gory death with a pair of paperweights. Frank arrives a few minutes later and finds the body. The strange-looking \"child\" jumps on him like some aggressive animal, clawing at him until it suddenly falls off his back to the floor and seemingly dies. Frank picks up the phone to call the police. Back at Frank's house, Ruth Mayer answers a phone call from Nola calling from the institute, who then goes in a berserk rage when Ruth answers the phone and suspects that she is having an affair with her husband.At the police station, Frank gives his statement and then meets the pathologist who performed the autopsy on the mysterious 'child creature' that attacked him where the doctor tells him that the creature died simply because: \"it ran out of gas\". Or more likely \"its batteries expired\". The pathologist points out that the creature has strange eyes, no sexual organs, and no navel. \"This creature has never really been born... at least not the way human beings are born\" says the pathologist.Raglan (as Ruth Mayer) speaks to Nola, Raglan/Ruth says that Frank will divorce Nola and marry her. The jealous Nola screams to leave Frank alone. When Frank gets home from the police station, Ruth leaves in a hurry. He finds Candy cowering in a corner of her bedroom after a nightmare. He tells her that the 'thing' is dead.The next morning, Raglan reads about Barton Kelly's murder. Taking a gun from his desk, he instructs his assistant, Chris, to get all the patients out of the institute. Meanwhile, Frank visits the hospital where Mike is now a fellow patient of Hartog's and is told that Nola is in fact the only patient at Somafree. Mike becomes angry about being dumped by his \"daddy\", his face becomes one giant red sore.Frank takes Candy to school. In Ruth Mayer's art class, two 'children creatures' in pastel coats with hoods pick up wooden hammers and beat Ruth mercilessly to a gory death. Alerted by a boy's cries for help, Frank enters the classroom to find Ruth dead, and Candy gone.At the institute, Raglan wakes Nola. She relates a dream that Candy was coming back to her, and says she doesn't feel threatened by Ruth Mayer any more. At the same time, Candy is being led along a snowy highway by the two creatures.That evening, Mike turns up on Frank's doorstep raving about: \"the disturbed kids in the work shed. The ones your wife's taking care of.\" Frank drives to the Somafree Institute where outside Raglan pulls a gun on him, saying they'll kill him if he tries to take Candy away from them. In a long monologue, Raglan tells Frank that the child creatures that have been doing all the killing are Nola's children. \"Nola is not their surrogate mother, she's their real mother.\" They are the Brood; the parthenogenesis 'children' of Nola's rage. Over the past year-and-a-half Nola's psychoplasmics have manifested into these children which carry out her bidding whenever she's in an angry mood. Raglan tells Frank that Candy is locked up in the attic where the Brood are being kept, and that if he wants Candy back, Frank must go to Nola to convince her that he wants Candy back to live with him. If he can do that, the Brood will be neutral so Raglan can go into the attic and take Candy, if not... the Brood will attack as long as Nola is in a rage.While Raglan waits outside the attic door where the Brood are being kept, Frank goes to Nola's room. He finds Nola rocking back and forth, wearing a white robe bathed in light. Nola wakes from her trance-like state and seems happy that he has come to see her. Frank says that he wants to be back with her. (Note: throughout the entire movie, Nola is only shown from the chest up which is apparently to hide something). At this point, Nola throws back her white robe, revealing an umbilical cord and external sac on her abdomen. The years of the welts that have appeared on her chest have merged together to create this womb outside her body as an incubator for the Brood that she produces. Frank recoils in horror and disgust.In the attic, Raglan quietly enters where all the sleeping Brood lie in their bunk beds. He finds Candy in one and picks her up to carry her out. Just then, the Brood stirs, sensing Nola's mounting anger.In Nola's room, she tears open the sac, removing a bloody 'infant' which she licks clean, as an animal might after having given birth. Frank's true feelings towards all this become apparent to Nola and her rage erupts.In the attic, the Brood finally become active, leaping on Raglan, who manages to shoot a few of them, but he gets overwhelmed and beaten to death by the Brood. In Nola's room, she angrily tells Frank that she would see Candy die then let him take her away. Upstairs, the Brood then turn their attention to the petrified Candy who runs and locks herself in the closet room in the attic, but they break through the door to grab at her. Frank attacks Nola and strangles her to death with his bare hands to save Candy when he hears the noises coming from the attic. When Nola stops breathing, all is suddenly silent.Frank goes upstairs to the attic to find all the Brood dead outside the room where Candy locked herself in, realizing that the Brood died without their mother's connection. Raglan is also dead nearby having been beaten to death and lying next to a few of the Brood he managed to kill before being overwhelmed. Candy is quivering in a corner of the room and Frank enters picks her up and tells her that he is taking her home. As Frank drives home with Candy, she seems to have withdrawn into a state of shock and cannot speak. Frank doesn't notice two raised lumps on her left arm... signs of her inner rage. The welts suggests that eventually like mother, like daughter...\n",
      "Tags: ['cult', 'psychedelic', 'murder', 'violence']\n",
      "--------------------------------------------------\n"
     ]
    }
   ],
   "source": [
    "print(\"Similar plots by TF:\\n\")\n",
    "print(\"Author's title:\", my_title)\n",
    "print(\"Author's plot:\", my_plot)\n",
    "print(\"-\" * 50)\n",
    "for idx in cosine_similarity(normalize(my_plot_tf)[0], train_tf_norm, k=3):\n",
    "    print(f'Candidate {idx}:')\n",
    "    title = train_set[idx].title\n",
    "    print('Title:', title)\n",
    "    plot = train_set[idx].synopsis_original\n",
    "    print('Plot:', plot)\n",
    "    tags = train_set[idx].tags\n",
    "    print('Tags:', tags)\n",
    "    print(\"-\" * 50)"
   ]
  },
  {
   "cell_type": "code",
   "execution_count": 65,
   "metadata": {
    "id": "Ct5BHjCURJz-"
   },
   "outputs": [],
   "source": [
    "my_plot_tfidf = tfidf(my_plot_tf, train_idf)"
   ]
  },
  {
   "cell_type": "code",
   "execution_count": 66,
   "metadata": {
    "id": "6-M9yZjMRLRF"
   },
   "outputs": [
    {
     "name": "stdout",
     "output_type": "stream",
     "text": [
      "Similar plots by TF-IDF:\n",
      "\n",
      "Author's title: The Wolf of Wall Street Plot Summary\n",
      "Author's plot: In the early 1990s, Jordan Belfort teamed with his partner Donny Azoff and started brokerage firm Stratton Oakmont. \n",
      "Their company quickly grows from a staff of 20 to a staff of more than 250 and their status in the trading community and Wall Street grows exponentially. \n",
      "So much that companies file their initial public offerings through them. \n",
      "As their status grows, so do the amount of substances they abuse, and so do their lies. \n",
      "They draw attention like no other, throwing lavish parties for their staff when they hit the jackpot on high trades. \n",
      "That ultimately leads to Belfort featured on the cover of Forbes Magazine, being called \"The Wolf Of Wall St.\". \n",
      "With the FBI onto Belfort's trading schemes, he devises new ways to cover his tracks and watch his fortune grow. \n",
      "Belfort ultimately comes up with a scheme to stash their cash in a European bank. \n",
      "But with the FBI watching him like a hawk, how long will Belfort and Azoff be able to maintain their elaborate wealth and luxurious lifestyles?\n",
      "--------------------------------------------------\n",
      "Candidate 0:\n",
      "Title: I tre volti della paura\n",
      "Plot: Note: this synopsis is for the orginal Italian release with the segments in this certain order.Boris Karloff introduces three horror tales of the macabre and the supernatural known as the 'Three Faces of Fear'.THE TELEPHONERosy (Michele Mercier) is an attractive, high-priced Parisian call-girl who returns to her spacious, basement apartment after an evening out when she immediately gets beset by a series of strange phone calls. The caller soon identified himself as Frank, her ex-pimp who has recently escaped from prison. Rosy is terrified for it was her testimony that landed the man in jail. Looking for solace, Rosy phones her lesbian lover Mary (Lynda Alfonsi). The two women have been estranged for some time, but Rosy is certain that she is the only one who can help her. Mary agrees to come over that night. Seconds later, Frank calls again, promising that no matter who she calls for protection, he will have his revenge. Unknown to Rosy, Mary is the caller impersonating Frank. Marry arrives at Rosy's apartment soon after, and does her best to calm Rosy's nerves. She gives the panic-struck woman a tranquillizer and puts her to bed.Later that night as Rosy sleeps, Mary gets up out of bed, and pens a note of confession: she was the one making the strange phone calls when she learned of Franks escape from prison. Knowing that Rosy would call on her for help, she explains that she felt it was her way of coming back into her life after their breakup. While she is busy writing, she fails to notice an intruder in the apartment. This time it is Frank, for real. He creeps up behind Mary and strangles her to death with one of Rosys nylon stockings. The sound of the struggle awaken Rosy and she gasps in fright. The murderous pimp realizes that he just killed the wrong woman, and slowly makes his way to Rosy's bed. However, earlier that night, Rosy had placed a butcher knife under her pillow at Mary's suggestion. Rosy seizes the knife and stabs Frank with it as he's beginning to strangle her. Rosy drops the knife and breaks down in hysteria, surrounded by the two corpses of her former lovers.THE WURDALAKIn 19th Century Russia, Vladimir D'Urfe is a young nobleman on a long trip. During the course of his journey, he finds a beheaded corpse with a knife plunged into its heart. He withdraws the blade and takes it as a souvenir.Later that night, Vladimir stops at a small rural cottage to ask for shelter. He notices several daggers hanging up on one of the walls, and a vacant space that happens to fit the one he has discovered. Vladimir is surprised by the entrance of Giorgio (Glauco Onorato), who explains that the knife belongs to his father, who has not been seen for five days. Giorgio offers a room to the young count, and subsequently introduces him to the rest of the family: his wife (Rika Dialina), their young son Ivan, Giorgio's younger brother Pietro (Massimo Righi), and sister Sdenka (Susy Anderson). It subsequently transpires that they are eagerly anticipating the arrival of their father, Gorcha, as well as the reason for his absence: he has gone to do battle with the outlaw and dreaded wurdalak Ali Beg. Vladimir is confused by the term, and Sdenka explains that a wurdalak is a walking cadaver who feeds on the blood of the living, preferably close friends and family members. Giorgio and Pietro are certain that the corpse Vladimir had discovered is that of Ali Beg, but also realize that there is a strong possibility that their father has been infected by the blood curse too. They warn the count to leave, but he decides to stay and await the old mans return.At the stroke of midnight, Gorcha (Boris Karloff) returns to the cottage. His sour demeanor and unkempt appearance bode the worse, and the two brothers are torn: they realize that it is their duty to kill Gorcha before he feeds on the family, but their love for him makes it difficult to reach a decision. Later that night, both Ivan and Pietro are attacked by Gorcha who drains them of blood, and then flees the cottage. Giorgio stakes and beheads Pietro to prevent him from reviving as a wurdalak. But he is prevented from doing so to Ivan when his wife threatens to commit suicide. Reluntantly, he agrees to bury the child without taking the necessary precautions.That same night, the child rises from his grave and begs to be invited into the cottage. The mother runs to her son's aid, stabbing Giorgio when he attempts to stop her, only to be greeted at the front door by Gorcha. The old man bits and infects his daughter-in-law, who then does the same for her husband. Vladimir and Sdenka flee from the cottage and go on the run and hide out in the ruins of an abandoned cathedral as dawn breaks. Vladimir is optimistic that a long and happy life lies with them. But Sdenka is reluctant to relinquish her family ties. She believes that she is meant to stay with the family.Sdenka's fears about her family are confirmed when that evening, Gorcha and her siblings show up at the abandoned Abby. As Vladimir sleeps, Sdenka is lured into their loving arms where they bite to death. Awakened by her screams, Vladimir rushes to her aid, but the family has already taken her home, forcing the lover to follow suite. The young nobleman finds her, lying motionless on her bed. Sdenka awakens, and a distinct change is visible on her face. No longer caring, Vladimir embraces her, and she bites and infects him too.THE DROP OF WATERIn Victorian London, England, Nurse Helen Chester (Jacqueline Pierreux) is called to a large house to prepare the corpse of an elderly medium for her burial. As she dressed the body, she notices an elaborate diamond ring on its finger. Tempted by greed, Nurse Chester steals it. As she does, a glass tips over, and drops of water begin to splash on the floor. She is also assailed by a fly, no doubt attracted by the odor of the body. Unsettled but pleased by her acquisition, she finishes the job and returns home to her small East End flat.After returning home, Nurse Chester is assailed by strange events. The buzzing fly returns and continues to pester her. Then the lights in her apartment go out, and the sounds of the dripping water continues with maddening regularity. She sees the old womans corpse lying on her bed, and coming towards her. The terrified woman begs for forgiveness, but she ultimately strangles herself, imaging that the medium's hands are gripping her throat.The next morning, the concierge (Harriet White Medin) discovers Nurse Chester's body and calls the police. The investigator on the scene (Gustavo de Nardo) quickly concludes that its a simple case and that Nurse Chester \"died of fright\". The pathologist arrives on the scene to examine the body before it's taken away and he notes that the only sign of violence is a small bruise on her left finger, mostly likely caused when someone pried a ring from her finger. As the doctor makes this observation, the concierge appears distressed, as she has apparently took the ring from the dead Nurse Chester, and is further distracted by the sound of a fly swooping about in the air....Boris Karloff makes a final appearance as Gorcha riding on his horse as he concludes the three tales of fear and tells the viewers to be careful while walking home at night for ghosts and vampires have no fear. The image pulls back to actually reveal him sitting on a prop fake horse with a camera crew and various crewmen moving branches around to simulate the scene of riding through the forest from the Wurdalak segment.\n",
      "Tags: ['cult', 'horror', 'gothic', 'murder', 'atmospheric']\n",
      "--------------------------------------------------\n",
      "Candidate 7:\n",
      "Title: Mitt liv som hund\n",
      "Plot: The action takes place in the years 1958-1959 in Sweden. Troubled 12 year-old Ingemar (Anton Glanzelius) gets into all sorts of trouble, which bothers his mother (Anki Lidén); Ingemar does not know that his mother is in fact terminally ill. When he and his older brother become too much for her, they are split up and sent to live with relatives. Ingemar ends up with his maternal uncle Gunnar (Tomas von Brömssen) and his wife Ulla (Kicki Rundgren) in a small rural town in Småland. Gunnar and Ingemar bond over Povel Ramel's recording of \"Far, jag kan inte få upp min kokosnöt\".\n",
      "In the town he encounters a variety of characters. Saga (Melinda Kinnaman), an assertive tomboy his own age, likes him, and shows it by beating him in a boxing match. Among the more eccentric residents is Fransson (Magnus Rask), a man who continually fixes the roof of his house, and Mr. Arvidsson (Didrik Gustavsson), an old man living downstairs who gets Ingemar to read to him from a lingerie catalog.\n",
      "Later, Ingemar is reunited with his family, but his mother soon takes a turn for the worse and is hospitalized. He and his brother go to stay with their uncle Sandberg (Leif Ericson) in the city, but his wife thinks the boy is mentally disturbed. After his mother passes away, he is sent back to Småland.\n",
      "Mr. Arvidsson has died in the interim; Gunnar and Ulla now share the house with a large Greek family. Gunnar welcomes him and consoles him as best he can, but the house is so crowded, he has Ingemar live with Mrs. Arvidsson in another house. Meanwhile, Ingemar becomes the object of contention between Saga and another girl. When they start fighting over him, he grabs onto Saga's leg and starts barking like a dog. She becomes upset by his strange behavior and gets him into the boxing ring. During the bout, out of spite, she tells him that his beloved dog (which he had thought was in a kennel) was actually euthanized. This, along with his mother's death, is too much for him and he locks himself inside Gunnar's one-room \"summer house\" in the backyard. While secluded here, Ingemar reflects on the death of his mother, the loss of his dog and a changing world. Ingemar uses the experiences of others and of his own personal loss to reconcile a life which is sometimes tough.\n",
      "Throughout the film, Ingemar tells himself over and over that it could have been worse, reciting several examples, such as a man who took a shortcut onto the field during a track meet and was killed by a javelin and the story of the dog Laika several times, the first creature sent into orbit by the Russians (without any way to get her back down).\n",
      "The film ends with the radio broadcast of a famous heavyweight championship boxing match, between Swede Ingemar Johansson and American Floyd Patterson. When Johansson wins, the whole town erupts with joy, but the now-reconciled Ingemar and Saga are fast asleep together on a couch.\n",
      "Tags: ['cult', 'prank']\n",
      "--------------------------------------------------\n",
      "Candidate 2:\n",
      "Title: Mr. Holland's Opus\n",
      "Plot: Glenn Holland, not a morning person by anyone's standards, is woken up by his wife Iris early one bright September morning in 1964. Glenn has taken a job as a music teacher at the newly renamed John F. Kennedy High School. He intends his job to be a sabbatical from being a touring musician, during which he hopes to have more \"free time\" to compose. However, he soon finds that his job as a teacher is more time-consuming than he first thought.As he arrives at the school for the first time, he meets Vice Principal Wolters, who comments on his Corvair, the model of car the Ralph Nader wrote a book about. Inside the building, he meets Principal Helen Jacobs. Having got off to an awkward start with both of them, he goes to the music room and meets his students for the first time. The students are dull, apathetic, and mostly terrible musicians. At lunchtime, he meets the football coach, Bill Meister, and strikes up a friendship with him. At the end of his stressful first day, Glenn and Iris talk about their future. If everything goes according to plan, between his paychecks and what she made with her photography, he should be able to quit in four years and go back to his music, including composing.Glenn notices one dedicated but inept clarinet player, Gertrude Lang, and starts working with her individually. He continues attempting to teach the class about music and continues working on his music at home as time passes. Grading papers gradually replaces working on his own music during his home time, much to his chagrin. After several months, Glenn grows exasperated when it seems that none of his students have learned anything from his classes. Gertrude, despite diligent practice, does not improve her clarinet-playing. Glenn's exasperation is further compounded when the Principal Jacobs chastises him for not focusing properly on his students. She has noticed that he is even happier to leave at the end of each day than most of the students. Later, Glenn expounds his frustration to Iris, who then informs him that she's pregnant. Glenn is dumbstruck, and his muteness upsets Iris. To comfort her, he tells her a story about how he discovered John Coltrane (his favorite musician) records as a teenager, the point being he could get used to this turn of affairs.After some soul-searching, Glenn decides to try some unconventional methods of teaching music appreciation, including the use of 'Rock and Roll' to interest students, demonstrating to them the similarities between Bach's \"Minuet in G\" and rock-and-roll in the form of the Toys' \"Lovers Concerto\". For the first time, the students are interested in the class, and Glenn appears much happier as he relates this to Iris as they assemble a crib. Their apartment is getting more and more crowded, and Glenn suggests that they get a house. Iris is overjoyed, even though it means using their savings and Glenn sacrificing his summer vacation, which he intended to use to work on his composing, in order to make extra money teaching Driver's Ed. Glenn does right by his family but he knows he can forget about getting out of the teaching gig for the foreseeable future.Continuing his new, unorthodox teaching methods, he finally gets Gertrude, who was on the verge of giving up, to have a breakthrough and become a more skilled clarinet player. She rediscovers her joy of playing, and the now-competent band go on to play at the 1965 graduation. Summer vacation begins, and Glenn follows through on his plan to teach Driver's Ed, having a series of near-death experiences at the hands of new drivers. Glenn and Iris move into their new house. Soon, we see the Driver's Ed car once again, except this time it is Glenn himself driving like a maniac, breaking every traffic law - so that he could get to the hospital to see his newborn son, Coltrane (\"Cole\") Holland.Glenn's unorthodox teaching methods do not go unnoticed by Principal Jacobs, or Vice-Principal Wolters. They, along with the conservative School Board and the parents of the community, are hostile to rock-and-roll. Glenn is able to convince the principal that he believes strongly that teaching the students about all music, including rock-and-roll, will help them appreciate it all the more. The principal and vice principal also hand him a new assignment, to get a marching band together for the football team. Glenn is at a loss with this concept, until his Bill Meister agrees to help, in exchange for Glenn putting one of his football players, Louis Russ, in the band to allow him to earn an extra curricular activity credit, which he needs in order to stay eligible for the sports teams. Louis knows absolutely nothing about music, but takes up drums. He has trouble keeping time and always finds himself out of place with the rest of the band.Later, Glenn and Bill are chatting while playing chess. Bill, a bachelor, wants to know about Glenn's stories of debauchery as a traveling musician, but Glenn doesn't want to talk about the past, as he is a different person in a different time. Glenn instead tells Bill he is pessimistic about Louis Russ. Bill encourages him to keep trying. Much as he worked with Gertrude earlier, Glenn starts working one-on-one with Louis, helping to get a feel for the tempo of music. After some hard work, Louis gets it, and later, he marches with the band in the local parade, much to the delight of his family.Immediately behind the Kennedy band in the parade is a fire engine, and its deafeningly loud horn catches everyone by surprise. Iris looks into Cole's stroller to check on him, but the noise hasn't awakened Cole - the boy is deaf. The revelation drives a wedge between Glenn and his son, as it seems that his son cannot understand what he does. A more somber Glenn teaches his students about Beethoven, the deaf composer.Time passes, and we see a montage of events from the late '60s, as Glenn picks away as his composition a little at a time and watches Iris work with Cole. We stop again in the early '70s, with Glenn still directing his high school band. Cole is old enough to enter school. Because of her mounting frustration with her inability to communicate with Cole, she insists on sending him to a special school for the deaf, whatever the cost. The three of them visit the school. Glenn winces at the cost, but they enroll Cole and set about to learn sign language themselves, though Iris puts more effort into it than Glenn.Apathetic students still go through Glenn's classes, and one of them, named Stadler, is stoned. Glenn is chewing him out when Glenn receives bad news. He tells Stadler to meet him on Saturday. On that day, they appear at a funeral. Louis Russ has come home from Vietnam after being killed in action. Coach Meister is there, and he and Glenn mourn. At the end of that academic year, Bill reveals that he finally has a steady girl-friend, and Principal Jacobs retires from the high school, praising Glenn for what he has done.We see another montage of events, this time in the 1970s. Glenn continues teaching Driver's Ed in the summer. We see the class of 1980 being welcomed back, suggesting that it is now September 1979. Glenn and Bill Meister team up to help the Drama Department, when it is rumored that funding may be pulled. Glenn and Bill tell Wolters, now the principal, have an idea to be certain the school will make money rather than lose it; it will be a musical revue of Gershwin classics. During auditions for the musical revue, Glenn becomes entranced and interested in a talented young singer named Rowena Morgan. At home, the teenage Cole comes home and tells Glenn about the science fair, which Glenn missed. Iris is fluent at sign language now, but Glenn is still only fair. Iris reproaches him for spending so much time with the school projects and the students while neglecting his own son. Glenn is frustrated, realizing that his own musical composing has been on the back burner for 15 years now.Rowena visits Glenn at a diner, where he has gotten into the habit of going to get out of the house and have someplace quiet to work. Unknown to Iris, Glenn writes a small piece that he titles \"Rowena's Theme,\" and takes an interest when Rowena states that she wants to leave town and go to New York to sing professionally. Glenn's life at home is still strained. Iris agrees to come to the school play on Saturday, because she had a meeting with Cole's teachers on opening night (Friday).The school revue arrives at last, and is a big hit, playing to a packed house. In the audience we see Coach Meister wearing a ring (he married the woman we saw earlier), and Sarah, the drama teacher, shows Principal Wolters something on a new invention, a handheld calculator (presumably, showing him how much gate money made it into the school coffers, as Wolters looks impressed). After the revue, Rowena comes to see Glenn in the auditorium, and she tells him she intends to pursue her dream of singing by going to New York the very next night, after the second and last performance of the revue. Glenn is taken aback. Rowena hints that she'd like Glenn to come with her. Glenn goes home and looks at his photo album, looking at pictures of his family and pictures of his old life as a traveling musician, now half a lifetime in the past. He is tempted to leave everything behind and go with Rowena to restore his old life as a musician. However, he realizes he is no longer the same person as he was then. He visits Rowena at the bus stop and sees her off, giving her the names of someone in New York who will help her find lodging. Glenn watches her depart, and goes home, content in his love for Iris.The timeline then shifts to late 1980, when John Lennon is killed. Glenn goes home and finds Cole working on Glenn's old Corvair. When Cole asks what is wrong, Glenn tries to explain, but then gives up, feeling that his son wouldn't understand John Lennon or his music. This infuriates Cole who (through Iris), explains that he does care about Glenn and knows about John Lennon, but that Glenn does not seem to be at all interested in communicating with him. Cole berates his father for putting so much effort in to teaching his students and very little towards him, calling him an asshole in sign language as he stalks off. Glenn then makes an effort, and even provides a concert at the high school, which also features lights and other items to enhance the show for deaf members of the school where Cole attends. Glenn, having become somewhat more proficient in sign language, even does an interpretation of Lennon's song 'Beautiful Boy,' dedicated to Cole. Later, Glenn discovers Cole listening to records by sitting on the speakers and feeling the vibrations through his body, and they can start healing the rift between them, even as Glenn's composition continues to gather dust.Time passes. It's now 1995. Glenn goes to see Principal Wolters, who announces that Art, Music and Drama have been cut from the school curriculum, and Glenn would be out of a job shortly. Glenn, who has become a cynical old man, tells Wolters that to cut the fine arts would lead to a generation of students who would be proficient at reading and writing and math (maybe) but would have nothing to read or write about. Wolters offers to write Glenn a reference, but Glenn, who is now 60 years old, fully recognizes the futility of the gesture. His working days are over and he knows it. Then he looks up at the picture on the wall of the long-departed former Principal Jacobs. He says Jacobs would have fought the budget cuts, and he will too. Glenn pleads to the school board to reconsider, but they refuse.At home, Iris reads a letter from the now-grown Cole. He has become a teacher himself, and was considering an offer from a university for the deaf in Washington, D.C. He also has taken Glenn's old car, the Corvair that we saw at the beginning and that Cole was working on in his teens, and jokingly writes that he will never give it back. Despondent, Glenn walks through the school on his last day, and he talks to Coach Bill, whose job as football coach is safe, though he can't be far from retirement himself. Glenn figures that he will bring in some money teaching piano lessons on the side, but he's unprepared to be forced into early retirement.On Glenn's final day at the school, Cole shows up driving the Corvair. School's out for him, too. Glenn is surprised when Iris and Cole lead him to the school auditorium, where they have organized a surprise going-away celebration for him. He sees many of his former students in the audience, including Stadler, the pothead from years before. Arriving next is Gertrude Lang, the clarinetist who Glenn helped in the 60s, who has since become the state's governor. Gertrude thanks Glenn for his dedication, and Glenn is very moved. He is moved to tears when she gives him a baton and asks him to conduct his own composition, which she had got hold of. The curtains open and a band, filled with more of Glenn's former students, is assembled and ready to play. Governor Lang picks up her clarinet and takes her place among them, and they play, for the first time, the musical Opus that Glenn had been picking away at for three decades.\n",
      "Tags: ['inspiring', 'romantic', 'stupid', 'feel-good']\n",
      "--------------------------------------------------\n",
      "Candidate 1:\n",
      "Title: Dungeons & Dragons: The Book of Vile Darkness\n",
      "Plot: Two thousand years ago, Nhagruul the Foul, a sorcerer who reveled in corrupting the innocent and the spread of despair, neared the end of his mortal days and was dismayed. Consumed by hatred for the living, Nhagruul sold his soul to the demon Lords of the abyss so that his malign spirit would survive. In an excruciating ritual, Nhagrulls skin was flayed into pages, his bones hammered into a cover, and his diseased blood became the ink to pen a book most vile. Creatures vile and depraved rose from every pit and unclean barrow to partake in the fever of destruction. The kingdoms of Karkoth were consumed by this plague of evil until an order of holy warriors arose from the ashes. The Knights of the New Sun swore an oath to resurrect hope in the land. The purity of their hearts was so great that Pelor, the God of Light, gave the Knights powerful amulets with which to channel his power. Transcendent with divine might, the Knights of the New Sun pierced the shadow that had darkened the land for twelve hundred years and cast it asunder. But not all were awed by their glory. The disciples of Nhagruul disassembled the book and bribed three greedy souls to hide the pieces until they could be retrieved. The ink was discovered and destroyed but, despite years of searching, the cover and pages were never found. Peace ruled the land for centuries and the Knights got lost in the light of their own glory. As memory of the awful events faded so did the power of servants of Pelor. They unwittingly abandoned themselves in the incorrect belief that the Book of Vile Darkness could never again be made whole.Now, the remaining pieces have been discovered, and an ancient evil is attempting to bring them together and restore the relic and the evil it brought. But at the same time a potential new paladin has been named to the Knights of the New Sun to attempt to renew their power to fight this evil. But, to do so, he may need to go against all that he has held dear, risking more that just his own soul in his quest to destroy the evil that surrounds him at every turn.\n",
      "Tags: ['violence']\n",
      "--------------------------------------------------\n",
      "Candidate 4:\n",
      "Title: Flightplan\n",
      "Plot: Kyle Pratt (Jodie Foster) is a propulsion engineer based in Berlin, Germany. Her husband David (John Benjamin Hickey) died from falling off the roof of an avionic manufacturing building, and now Kyle and her six year-old daughter Julia (Marlene Lawston) are flying home to Long Island to bury him and stay with Kyle's parents. They fly aboard a passenger aircraft, an Elgin 474, which Kyle helped design. After falling asleep for a few hours, Kyle wakes to find that Julia is missing. After trying to remain calm at first, she begins to panic, and Captain Marcus Rich (Sean Bean) is forced to conduct a search. Kyle walks the aisles, questioning people, but none of her fellow passengers remember having seen her daughter. One of the flight attendants calls in to the airport they just departed from and, shockingly, the gate attendant says that they have no record of Julia boarding the flight. In addition, according to the passenger manifest, Julia's seat is registered empty. When Kyle checks for Julia's boarding pass, it is missing.Marcus refuses to allow the cargo hold to be searched because the searchers could be hurt if the plane shifted due to turbulence. Both Marcus and the other crew members suspect that Kyle has become unhinged by her husband's recent death, and has imagined bringing her daughter aboard. One flight attendant Stephanie (Kate Beahan) is exceptionally unsympathetic. Faced with the crew's increasing skepticism regarding her daughter's existence, Kyle becomes more and more desperate. Because of her increasingly erratic, panicked behavior, air marshal Gene Carson (Peter Sarsgaard) is ordered by Marcus to guard and handcuff her.Later on, Marcus receives a wire from the hospital in Berlin. It says that Julia was with her father when he fell off the roof, and she also died of internal injuries. Kyle furiously denies that, consistently claiming that she brought Julia aboard. The crew now believes she is delusional and she is brought back to her seat by Air Marshal Carson. A therapist (Greta Scacchi) on board tries to console her, causing Kyle for a moment to doubt her own sanity until she notices that a heart Julia had drawn earlier on the window next to her seat is real. Kyle is emboldened and convinces the therapist to let her use the bathroom. With her handcuffs now removed, she climbs into the upper compartment and sabotages the aircraft's electronics, deploying the oxygen masks and interrupting lighting. Some passengers brawl with the red herring Arab passengers on board. She uses the chaos to take an elevator to the lower freight deck. She desperately searches for Julia and finally opens her husband's casket to which she emotionally breaks down. Carson finds her and escorts her back.Kyle makes a final plea to Carson that she needs to search the plane upon landing. Carson considers for a moment, then \"goes to speak to the captain,\" against flight attendant Stephanie's command (they are landing), leaving the audience to momentarily believe he is sympathetic. Instead, he sneaks back into the freight deck to remove two small explosives and a detonator concealed in David's casket. He then climbs down to a part of the avionics section, revealing Julia is sleeping (presumably drugged) with her coat and backpack that no one could find. He attaches the explosives to the side of the platform and arms them. At this point, it is revealed that Carson, Stephanie, and the coroner in Berlin (Christian Berkel) are the antagonists and part of a conspiracy. Carson tells the captain that Kyle is a hijacker and is threatening to blow up the aircraft with explosives hidden in the un-X-rayed casket unless the airline transfers $50,000,000 into a bank account. It is revealed that the conspirators killed Kyle's husband and abducted Julia in order to frame Kyle. Carson tells an unnerved Stephanie that he intends to blow up the aircraft's avionics section, killing the unconscious Julia, and leave Kyle dead with the detonator in her hand.After making an emergency landing at Goose Bay Airport in Goose Bay, Labrador, the passengers exit the aircraft as the tarmac is surrounded by U.S. Federal Bureau of Investigation (FBI) agents (though the airport is properly Royal Canadian Mounted Police jurisdiction). As the captain is leaving, Kyle runs to speak to him with Carson in tow. The captain demands she give up her charade, revealing Carson's deception. Quickly playing the role of hijacker, Kyle demands that Carson stay on board and the crew disembark.As soon as the plane's door closes, Kyle knocks Carson unconscious with a fire extinguisher, handcuffs him to a rail, and takes the detonator from his pocket. Stephanie comes out of hiding and Kyle screams \"she's in avionics isn't she?\" Carson quickly regains consciousness and fires at Kyle with a concealed gun, sending her running. He chases after Kyle shooting, until she locks herself in the cockpit. He reveals his conspiracy to talk her out. She opens a hatch door to the upper level and throws out a binder to fool him. Carson hears the upstairs thud and leaves. Kyle exits and encounters a guilt-ridden Stephanie slapping her palm with a large flashlight. Kyle talks her down and punches her out. Stephanie panics and flees the plane, abandoning Carson who looks on.Kyle during this time searches avionics and finally finds the unconscious Julia. Carson soon follows, and while searching, tells her how he gagged and dumped her daughter into the food bin. He disparages the people aboard who would never care enough to notice. Carson points his gun to where Julia lay before, but they're not there. He turns around and sees Kyle carrying Julia, escaping through a small door with the detonator in hand. Carson shoots at her as she closes the door. She detonates the explosives, killing Carson. The compartment she and Julia hid in was non-combustible, which keeps them safe. Kyle, carrying Julia, exits via a cargo door. Everyone watches in shock and amazement as Kyle carries her daughter out onto the tarmac.Later in the passenger waiting section of the airport, Marcus apologizes to a seated Kyle holding Julia in her arms. Stephanie is led away by FBI agents and more agents approach Kyle, asking her to identify the morgue director in Berlin who has been detained. She carries Julia still unconscious through the crowd of passengers, silently redeeming herself. One of the Arab passengers (Michael Irby) helps pick up her bag, a symbolic act of respect and forgiveness. Before loading her daughter into a van to take them away, Julia wakes up and sleepily asks \"Are we there yet?\" as they drive away.\n",
      "In this movie appears Christian Berkel who will later play the role of Fritz Shimon Haber in Haber.\n",
      "Tags: ['mystery', 'suspenseful', 'action', 'murder', 'flashback']\n",
      "--------------------------------------------------\n",
      "Candidate 6:\n",
      "Title: Savages\n",
      "Plot: The movie begins with a video being shot of men with their hands tied behind their backs. An enforcer, who we learn later is Lado (Benicio Del Toro) wears a skull Lucha libre mask and runs a chainsaw.Next, there is a shot of an attractive young blonde woman named 'O' (short for Ophelia, played by Blake Lively) as she narrates in a voice-over. The love of her life is two men: Ben (Aaron Johnson) and Chon (Taylor Kitsch). To her, Ben is like warm wood, the idealistic Buddhist; Chon is steel, the baddhist. O is in a polyamorous relationship with both men, and the three live together in Laguna Beach, California in a luxurious cliff-side house for which Ben paid with cash. Ben and Chon are high school buddies. Ben went to Berkeley and majored in business and botany. Chon was a Navy Seal with tours of duty in Iraq and Afghanistan. One day, lounging on the beach, Ben asks Chon where you can get the best weed. Chon replies Afghanistan, and during a tour there, smuggles out hashish/marijuana seeds from which Ben grows in a greenhouse, using his scientific knowledge, cannabis with a THC yield of 33%, \"the best in the world.\" They met O when they hired her to help with managing the greenhouse. Ben is the businessman who runs the production and distribution and handles 99% of the business, while Chon handles the 1% (enforcement). Ben's philosophy is to provide what people want, but Chon is the realist in seeing the money made from marijuana. Ben does a lot of humanitarian work, and sells to marijuana clubs and dispensaries, for medical usage, but most of the money is made from selling on the street, where it goes for about $6,000 a pound.After making love to O, Chon sees on his computer an e-mail. The e-mail has a video of Lado kicking around the decapitated heads and reads: \"These guys were stupid. Be smarter We need to talk.\" O and Chon greet Ben returning from a volunteerism trip to Africa. Chon and Ben discuss the business. Ben wants to give up the business to the Mexican cartel as he wants to go into philanthropic ventures such as making $10 solar panels, and he admits he's afraid of the cartel. But Chon argues that selling would show weakness, and once they do this, the cartel would usurp their whole lives.We see Lado and his 'gardening crew' carry out a hit. Lado accosts a middleman (Shea Whigham) in his home. The middleman pleads forgiveness and promises an even better deal than paying up. He calls El Azul (Joaquin Cosio) (Spanish for The Blue), a cartel head honcho, to connect him with Lado, but Lado shoots the middleman and has a teenage cartel-member-in-training, Esteban, shoot the middleman's wife, while El Azul is on the phone, enraging him. The gardening crew smuggles the bodies out of the house in trash bins. We learn that El Azul is a former inside man with the Baja cartel, the cartel Lado works for. The head of the Baja cartel, Elena Sanchez (Salma Hayek), had a falling-out with El Azul, and now El Azul is encroaching on the Baja cartel's territory, threatening to take over her position.Meanwhile, Ben and Chon meet with Dennis (John Travolta), a corrupt DEA agent on Ben and Chon's payroll. Dennis tells them about the Baja cartel: they want Ben and Chon's market to fill a market they don't have. Dennis urges them to take the deal instead of decapitation; he reminds them that times are changing and they need to adapt. Dennis is sympathetic to them because his wife has cancer and Ben provides him with cannabis to ease the effects of her chemotherapy.Ben and Chon go to a hotel room and meet with Alex (Demian Bichir), the representative for Elena. The meeting is secretly video-recorded by Lado, with the video feed shown to Elena in her Tijuana compound.Alex lays out the deal: a contract of three years of working together, during which the cartel will learn Ben's horticulture methods while providing vast distribution networks and the operation in a safe haven on an Indian reservation that the cartel owns. (The Indian reservations are considered out of U.S. jurisdiction.) During the meeting, Chon badmouths the cartel's products by saying \"I think, basically, you want us to eat your shit and call it caviar.\" Ben and Chon step out into balcony to discuss. We see that a formidable security apparatus, a team of Chon's ex-Navy Seal friends, who have sniper wares trained on the hotel room, backing them. Chon had planned to take out Alex and his men, but Ben talks him out of it. Ben and Chon reach a decision. They will turn over their business to the Cartel, but not join them. The cartel is not happy. (Apparently, no one says 'no' to the Baja cartel.)Fearing the consequences of their decision, Ben meets with his money guy, Spin (Emile Hirsch), an ex-Goldman Sachs banker who launders and invests the marijuana company's money. Ben wants to set up funds to disappear for three years in Indonesia. Ben, Chon, and O have dinner and discuss the plan for their new lives. Unbeknownst to them, they are being watched in the restaurant by Lado's crew. The three celebrate by getting high in their beach house and having a threesome. Lado sits in the car, spying on them. He calls Elena to update her on the situation. Elena says she needs Ben and Chon to join her for their expertise. Hearing about their living situation, she found their weakness: O.The next day, the three prepare to leave for Indonesia. O wants to do a last minute shopping trip and Chon assigns someone from the security team for her. O is driving to South Coast Plaza (an upscale mall in Orange County), but one of Lado's men intercepts the bodyguard and kills him. They tail O. In one scene, O is shopping next to a girl who is talking on a cellphone, answering her mom's questions about college life. Her mom turns out to be Elena.Returning home but not finding O, Ben and Chon hear a chime indicating a Skype call, and to their horror, see a live web feed of the kidnapped O. Elena, her voice masked, reprimands the boys for not complying with the deal. To redress the insult of the cartel's product during the meeting, Elena has Chon put a gun into his mouth, indicating she will tell Lado to cut off two of O's fingers otherwise. She almost gets Chon to pull the trigger but stops him at the last minute, telling him this will clean up his mouth.Elena tells Ben and Chon to deliver 300 pounds of their marijuana in five hours to show compliance. They get the product and race to Chula Vista. They arrive just in time despite being almost pulled over (and Chon almost having to kill the highway patrolman). Lado and his men take their car. Ben and Chon drive back in Lado's truck, which contains the suitcase of money (they paid in full, Ben and Chon note) and a cell phone. Elena calls, her voice unmasked, and tells them that she will hold O hostage for one year to make sure they comply with all of her demands. Chon argues with Ben that they have to fight to get O back -- the cartel members are savages who will kill them anyway. But Ben just wants peace and O back.Ben and Chon meet again with Dennis, who tells them about the conflict between Elena and El Azul. Chon strong-arms Dennis into getting data on Elena and the Baja cartel from the DEA. He is able to get 60 days of financial transactions, encoded onto two credit cards. Dennis also tells them that two of Elena's sons and her daughter (Magdalena), are dead. Back in their company HQ, Ben and Chon have Spin and his experts look into the financial data on the computer. From it, they trace Elena's financial routes. They figure out that one of her real-estate holdings, a trailer house, is a drop off point for the cartel's business. Ben decides on a plan to pay to get O back. He and Elena negotiate to a $13 million ransom. They decide to hijack the drop to get the cash for O's ransom, and make it look like El Azul hit the cartel.The hijacking gets underway. Wearing masks, Chon and his team of ex-Navy Seals blow up the front car in a convoy with IEDs. When the men from the trailer retaliate, an ex-Navy Seal member takes them out with RPG rockets. Chon forces the men out of the car carrying the cash by putting a grenade in the gas tank. He takes the briefcase from a man scrambling out of the car. Ben is horrified by the killings. One of the cartel members is about to shoot Ben, but Chon shoots the member in the back, spraying blood on Ben's mask. They take the money and get away. Alex and Lado arrive to assess the damage, which is 3 million dollars gone and seven men dead. Lado urges Alex not to inform Elena of the loss because he wants to recover the money and rectify the situation himself and because he fears Elena.Ben and Chon get a message to have Ben meet with Alex and Lado. Alex and Lado interrogate Ben to find out their whereabouts during the hijacking but Ben plays it cool. He insinuates that it could be Lado's men. After Ben leaves, Alex decides Ben and Chon don't have the balls for the attack. He suspects El Azul but Lado isn't so sure.We see O at the shack where they are holding her. She is being watched over by Esteban. Her living conditions are bad: one of her legs is chained to a chair, she has a bucket for bathroom and sleeps on a spring bed in a cage. She pleads into the surveillance camera and gets to talk to Elena, and begs her for some concessions. Elena asks O how long she has been using. Since 8th grade, O says, not that her mother cared. Later we see Lado feeding O a steak, and later, giving O a drug fix, and her getting high. O is also given access to a laptop to send a fabricated email to her mother so she won't file a missing persons report on O. Afterwards, Lado tells Esteban, don't look at me like that (because we see later in the movie Lado shows O a cellphone video of him raping her while she was high).Elena's daughter, Magdalena (Sandra Echevarria) is seen having sex when she is interrupted by a phone call. Her mother is on the line, informing her that she is coming to California to visit. Elena gets on a private plane to the Indian reservation in order to avoid U.S. customs. Lado will follow her later, bringing O with him. Before boarding the plane, Lado tells Esteban that he's proven too sensitive to handle the work and proceeds to shoot and kill him.Upon arrival inCalifornia, Lado brings O to Elena. Elena immediately informs Lado that she knows about the hijacking, and chastises him for not telling her. She threatens Lado, telling him to recover the money and he informs her that he didn't tell her because he was trying to get proof that Ben and Chon were behind the hijacking.Ben has Spin fabricate documents and hack into Alex's bank accounts to frame Alex as the mole to El Azul. Ben confronts Lado with Alex's dossier in an effort to take the heat off of him and Chon. To save himself, Lado visits El Azul and makes a deal to work with him.At a posh spa, Elena and O have dinner during which we learn that Elena inherited the business after her husband was killed. Her twin sons and brothers are also killed, leaving two children who resent her and do not want her in their lives (her daughter and a third son). Elena tells O she likes her, but won't hesitate to kill Ben and Chon. When O remarks that only she can 'get Ben and Chon together,' Elena scoffs, telling O that her love story has a serious problem: Ben and Chon must love each other more than O because otherwise, they wouldn't share her.Later, Lado brings Ben and Chon to see Alex being whipped. The torture is video-fed to Elena who forces O to watch once he 'confesses.' Under the threat of his family being harmed, Alex confesses to working with El Azul. He begs Elena for forgiveness, citing the names of her husband and children. Lado douses Alex with gasoline and anoints Ben to be the executioner. To go through with the falsehood, Ben ignites Alex on fire. O watches in horror.The next morning, Ben and Chon walk along the beach where they discuss the night's events. Chon tries to justify what Ben did by referring to the Dalai Lama, but Ben brushes it off. Instead, he tells Chon that during Alex's plea to Elena, Alex swore on Magda's life; meaning that Elena's daughter is alive, and that Dennis knew this and hid it from him and Chon. They make a plan that will work even faster than accumulating the money for ransom: kidnap Elena's daughter and trade her for O.Lado pays Dennis a visit at his home. It turns out Lado also has Dennis on the payroll. Lado questions Dennis on the culprits behind the hijacking and Dennis assures him it was Azul. Lado informs Dennis that it can't be Azul because he's working with him now instead of Elena. Under threat, Dennis reveals that the hijackers are Ben and Chon, but that they are going to give the $3 million to Elena and not Lado. To head off Elena, Dennis tells Lado to kidnap Magda and sell her to Ben and Chon. Dennis is incredulous to learn that Elena is on U.S. soil.Dennis meets with Ben and Chon, who chew him out for giving them away to Lado. The boys offer Dennis the $3 million they stole in exchange for Magdalena's address. They kill her bodyguard, who is sitting outside her dorm in his car, then move inside, tying up her boyfriend and kidnapping her. Wearing masks as a show, they Skype with Elena and show a shivering Magda, tied up and stuffed in an ice box. Elena meekly agrees to their demands. At the end of the talk, O informs Elena that she knew her boys would come for her. Elena slaps O, then screams at everyone to get out. She drops to the ground, rips off her wig, and breaks down.Lado and his boys take O into another room, where she is chained to a chair. Lado makes everyone else leave the room, then he shows her the video he took when he raped her while she was drugged. She spits in his face, but he enjoys it, wiping himself off on her hair.Elena's SUV and Ben and Chon's SUV meet in an open field with their hostages. On the mountain ridges, each group has their sniper team in position. Elena steps into the open with O and releases her. O runs to Ben. Ben and Chon release Magda to Elena, who is told by her daughter that she will never speak to her again. Before Elena returns to her car, she asks Chon who the rat is. Chon smiles and nods toward Lado, who blows back a kiss. Elena turns around to shoot Lado, but Lado draws his gun and shoots her first. O, who was handed a gun by Ben, makes her way to Elena and wants to kill her, but relents when she sees Elena is already dying. Elena begs O to help Magda escape. O glares at Magda briefly before hustling her to safety.A massive shootout is underway. Each group's sniper team shoots at each other, taking out some members of each team. Chon kills Elena's bodyguards and Ben and Chon converge on Lado, hiding behind the SUV. Ben shoots Lado three times in the back, but Lado turns around to shoot Ben in the throat. Lado sprawls on the ground, severely wounded. O shoots Lado dead for revenge, and erases his phone. O rushes to Ben, seeing his wound is lethal. As O cradles Ben, Chon pulls out a syringe and injects Ben, O, and then himself with drug overdoses. They die in a triple suicide. \"That's the perfect ending,\" O narrates while looking into the sky as she dies.But wait... Rewind, as O mentions that this was just how she imagined it.What really happened, as O narrates, \"was more of a fuck-up than a shootout.\" After Elena steps out into the open and releases O, Lado retreats to the car and drives away. A helicopter and DEA agents led by Dennis swoop in to arrest Elena. The DEA agents disarm the sniper teams and arrest everyone (including Ben, Chon, and O).O narrates as we see a montage: Dennis is grandstanding on TV about Elena's arrest and the progress on the war on drugs (Indian grounds are still U.S. grounds he says); Elena goes to prison for 30 years, while Ben and Chon, who have enough information to put Dennis away, are released after a few weeks in a holding cell after Dennis said that they were confidential informants. Lado and El Azul form a new cartel to take over the vacuum left by Elena.After their release, O says that she, Ben, and Chon all vanished. Montages are shown of them living new lives in Indonesia, Africa, and other parts of the world. A few scenes show that they continue to remain in touch and get together, but most of the scenes strongly imply that for the most part, they've all gone their separate ways-- as O narrates, perhaps it's true that three people can't all be equally in love. She says that one day, perhaps they'll return to their pot business in Laguna, but for now, they live simple, even primitive lives, like 'beautiful savages.'\n",
      "Tags: ['revenge', 'neo noir', 'murder', 'violence', 'flashback']\n",
      "--------------------------------------------------\n",
      "Candidate 3:\n",
      "Title: Baise-moi\n",
      "Plot: Baise-moi tells the story of Nadine and Manu who go on a violent spree against a society in which they feel marginalized. Nadine is a part-time sex worker, and Manu a slacker who does anything—including occasional porn film acting—to get by in her small town in southern France.\n",
      "One day, Manu and her friend, a drug addict, are accosted in the park by three men, who take them to a garage and gang-rape them. While her friend struggles, screams, and fights against the rapists, Manu lies still with a detached look, which troubles the man raping her, who soon gives up. When her friend asks Manu how she could act so detached, she replies that she \"can't prevent anyone from penetrating her pussy\", so she didn't leave anything precious in there. Manu then returns to her brother's house, and does not tell him what has happened, but noticing bruises on her neck, he realizes. He gets out a gun and asks Manu who was responsible, but when she refuses to tell him, he calls her a \"slut\" and implies that she actually enjoyed being raped. In response, picking up the discarded pistol, Manu shoots him in the head.\n",
      "Meanwhile, Nadine returns home and has an argument with her roommate, whom she strangles and kills, before leaving with their rent money. Nadine suffers another emotional setback when she meets her best friend, a drug dealer, in another town, but he is shot and killed while out obtaining drugs with a prescription she forged for him.\n",
      "Later that night, having missed the last train, Nadine meets Manu at the railway station. Manu says she has a car, if Nadine will drive for her. They soon realize that they share common feelings of anger, and embark on a violent and sexually charged road trip together.\n",
      "In need of money, the girls hold up a shop and also kill a woman at a cash machine. In a stolen car, they are pulled over for a random check by police, whom they kill. Another woman, who was also being checked and saw the murders, flees with them. The women stay over at their new friend's house, whose brother provides the address and details of an architect with whom he has had trouble. The women trick their way into the architect's house and kill him. Finally, after this spree of murder and sexual activity, the two women enter a swingers' club. One of the patrons makes a racist comment to Manu. The women kill most of the patrons there, and use a gun to anally penetrate the racist man, finally shooting him. The pair discuss what they have done, and agree that it has all been pointless because nothing has changed in them.\n",
      "During their spree, the duo's crimes are reported by the press, and become a point of fascination for the entire country, with some people actually supporting them, and others afraid of them. When Manu enters a roadside tire shop to get some coffee, she is shot by the shop owner, who is then shot by Nadine outside. Nadine takes Manu's body to a forest and burns it, before driving to a beach. With tears in her eyes, Nadine puts the gun to her head, intending to commit suicide, but gets arrested by the police before she can do so.\n",
      "Tags: ['gothic', 'cruelty', 'violence', 'cult', 'revenge', 'sadist']\n",
      "--------------------------------------------------\n",
      "Candidate 9:\n",
      "Title: Cassandra's Dream\n",
      "Plot: Brothers Terry (Colin Farrell) and Ian (Ewan McGregor), who live in South London, were raised by a weak father Brian (John Benfield) who runs a restaurant, and a strong mother Dorothy (Clare Higgins) who taught her sons to look up to their uncle Howard (Tom Wilkinson), a successful plastic surgeon and businessman.\n",
      "The brothers buy a sailboat at an oddly low price, despite its near pristine condition. They name it Cassandra's Dream, after a greyhound that won Terry the money to buy the boat. Knowing nothing of Greek mythology, they are unaware of the ominous antecedents of this name—the ancient prophetess Cassandra, whose prophecies of doom went unheeded by those around her.\n",
      "While driving home from a day's sailing in a borrowed car, Ian crosses paths with beautiful actress Angela Stark (Hayley Atwell), with whom he becomes infatuated.\n",
      "Terry has a gambling addiction that sinks him deeper in debt. Ian wishes to invest in hotels in California to finance a new life with Angela. To overcome their financial issues, they ask Howard for help. He agrees to help them, but asks for a favor in return: they must murder someone for him. Howard faces imprisonment for unspecified crimes and his future is threatened by Martin Burns (Phil Davis), a former business partner who plans to testify against him. Howard asks his nephews to get rid of Burns, and in return he will reward them financially. After initial reluctance, the brothers agree.\n",
      "They make two zip guns, untraceable and easily destroyed. Lying in wait in Burns' home, their plan is foiled when Burns arrives with a woman. Their resolve shaken, they leave and agree to commit the murder the next day.\n",
      "The next day, they succeed in carrying out the murder and later destroy the guns. Ian is content to move on as if nothing happened, but Terry is consumed by guilt and begins abusing alcohol and other drugs. His behavior frightens his fiancée (Sally Hawkins), who tells Ian about the situation and that Terry believes he has killed someone. After Terry confides that he wants to turn himself in to the police, Ian goes to Howard for advice. They agree there is no alternative but to get rid of Terry. Ian plans to poison Terry during an outing on the boat. Ian can't bring himself to kill his own brother, and attacks him in a fit of rage. In the chaos, Terry knocks Ian down the steps into the cabin, killing him.\n",
      "The boat is later discovered adrift by the police, and the audience learns that Terry snapped and drowned himself after killing his brother. The last shot is of Cassandra's Dream, still in beautiful condition despite the tragedies it set in motion.\n",
      "Tags: ['tragedy', 'dramatic', 'murder']\n",
      "--------------------------------------------------\n",
      "Candidate 8:\n",
      "Title: The Brood\n",
      "Plot: At the Somafree Institute, Dr. Hal Raglan humiliates his patient Mike by saying: \"you're just a weak person. You must have got that from your mother. It probably would have been better for you if you had been born a girl!\" On the dimly lit stage, Raglan demands a demonstration of anger, and Mike reveals angry red blotches covering his torso. The audience gasps. Raglan announces that this is psychoplasmcis; the physical manifestation of mental rage by the appearance of the welts on one's body.Meanwhile, Frank Carveth collects his nine-year-old daughter Candy from a 'Private Guest Room'. Candy wears a red coat with fur trim and hood. Bathing her, Frank finds bruises and scratches on her back. He drives to the Somafree Institute to confront Raglan and demands to see his wife Nola, whom has been committed there. Raglan refuses. Frank accuses Nola of abusing their daughter and says he will stop Candy's next visit. Raglan threatens legal action if Frank withholds a vital part of Nola's treatment. Frank then goes to his lawyer, Al Resnikoff, who tells him that Nola has a stronger legal position despite the fact that she is committed to a mental hospital. Frank says that he will do what he has to. He takes Candy to her maternal grandmother, Juliana, who seems highly strung out.Back at the institute, Raglan goes into Nola's room (play-acting as Candy) and he asks her why she hurt her daughter Candice. Raglan/Candice says: \"Mummies don't hurt their own children\". Nola sobs that they do. She tells Raglan that her own mother was \"fucked up and bad\". Raglan encourages her anger by telling her: \"Go all the way through it, right to the end.\"That evening at Juliana's house, she investigates a noise in the kitchen. Food, juice, glasses and dishes are thrown all over the floor. She is bludgeoned by what appears to be a small child wearing a red hooded raincoat with fur trim. As Candy watches from behind a door, small claw-like hands leaves bloodstains on the banisters. The next morning at his workplace, Frank is informed of Juliana's murder. Police psychologist Dr. Birkin tells Frank so encourage Candy to remember what happened, a breakdown is possible if she doesn't remember. \"These things tend to express themselves in one way or another\" says Dr. Birkin.At the institute, Raglan speaks to Nola as her father. She quickly gets very angry saying: \"You shouldn't have walked way when she hit me.\" Red welts appear on Nola's forehead as she speaks.At the local airport, Frank and Candy meet Barton Kelly, Nola's estranged father, who has come for his ex-wife's funeral. On Resnikoff's advice, Frank visits Jan Hartog, an ex-Somafree patient taking legal action against Dr. Raglan. Uncovering a row of tumors on his neck, Hartog says bitterly: \"Raglan encourages my body to revolt against me. And it did. I have a small revolution on my hands and I'm not putting it down very successfully.\"Back at the institute, a drunk Barton Kelly arrives and is furious when Raglan will not allow him to see Nola. Meanwhile, Frank arrives at Candy's school where her teacher, Ruth Mayer, sits with her. Candy invites Ruth to dinner at her house. That evening, Ruth arrives and has dinner with Frank and Candy. A little later, Barton calls Frank from Juliana's house, saying he needs Frank's help to see Nola. Frank leaves Ruth babysitting Candy, who picks up a book to read which is titled 'The Shape Of Rage'. Raglan's book on Psychoplasmics.At Juliana's house, Barton is alone when the same small figure wearing the hooded red raincoat emerges from under his bed and batters him to a very gory death with a pair of paperweights. Frank arrives a few minutes later and finds the body. The strange-looking \"child\" jumps on him like some aggressive animal, clawing at him until it suddenly falls off his back to the floor and seemingly dies. Frank picks up the phone to call the police. Back at Frank's house, Ruth Mayer answers a phone call from Nola calling from the institute, who then goes in a berserk rage when Ruth answers the phone and suspects that she is having an affair with her husband.At the police station, Frank gives his statement and then meets the pathologist who performed the autopsy on the mysterious 'child creature' that attacked him where the doctor tells him that the creature died simply because: \"it ran out of gas\". Or more likely \"its batteries expired\". The pathologist points out that the creature has strange eyes, no sexual organs, and no navel. \"This creature has never really been born... at least not the way human beings are born\" says the pathologist.Raglan (as Ruth Mayer) speaks to Nola, Raglan/Ruth says that Frank will divorce Nola and marry her. The jealous Nola screams to leave Frank alone. When Frank gets home from the police station, Ruth leaves in a hurry. He finds Candy cowering in a corner of her bedroom after a nightmare. He tells her that the 'thing' is dead.The next morning, Raglan reads about Barton Kelly's murder. Taking a gun from his desk, he instructs his assistant, Chris, to get all the patients out of the institute. Meanwhile, Frank visits the hospital where Mike is now a fellow patient of Hartog's and is told that Nola is in fact the only patient at Somafree. Mike becomes angry about being dumped by his \"daddy\", his face becomes one giant red sore.Frank takes Candy to school. In Ruth Mayer's art class, two 'children creatures' in pastel coats with hoods pick up wooden hammers and beat Ruth mercilessly to a gory death. Alerted by a boy's cries for help, Frank enters the classroom to find Ruth dead, and Candy gone.At the institute, Raglan wakes Nola. She relates a dream that Candy was coming back to her, and says she doesn't feel threatened by Ruth Mayer any more. At the same time, Candy is being led along a snowy highway by the two creatures.That evening, Mike turns up on Frank's doorstep raving about: \"the disturbed kids in the work shed. The ones your wife's taking care of.\" Frank drives to the Somafree Institute where outside Raglan pulls a gun on him, saying they'll kill him if he tries to take Candy away from them. In a long monologue, Raglan tells Frank that the child creatures that have been doing all the killing are Nola's children. \"Nola is not their surrogate mother, she's their real mother.\" They are the Brood; the parthenogenesis 'children' of Nola's rage. Over the past year-and-a-half Nola's psychoplasmics have manifested into these children which carry out her bidding whenever she's in an angry mood. Raglan tells Frank that Candy is locked up in the attic where the Brood are being kept, and that if he wants Candy back, Frank must go to Nola to convince her that he wants Candy back to live with him. If he can do that, the Brood will be neutral so Raglan can go into the attic and take Candy, if not... the Brood will attack as long as Nola is in a rage.While Raglan waits outside the attic door where the Brood are being kept, Frank goes to Nola's room. He finds Nola rocking back and forth, wearing a white robe bathed in light. Nola wakes from her trance-like state and seems happy that he has come to see her. Frank says that he wants to be back with her. (Note: throughout the entire movie, Nola is only shown from the chest up which is apparently to hide something). At this point, Nola throws back her white robe, revealing an umbilical cord and external sac on her abdomen. The years of the welts that have appeared on her chest have merged together to create this womb outside her body as an incubator for the Brood that she produces. Frank recoils in horror and disgust.In the attic, Raglan quietly enters where all the sleeping Brood lie in their bunk beds. He finds Candy in one and picks her up to carry her out. Just then, the Brood stirs, sensing Nola's mounting anger.In Nola's room, she tears open the sac, removing a bloody 'infant' which she licks clean, as an animal might after having given birth. Frank's true feelings towards all this become apparent to Nola and her rage erupts.In the attic, the Brood finally become active, leaping on Raglan, who manages to shoot a few of them, but he gets overwhelmed and beaten to death by the Brood. In Nola's room, she angrily tells Frank that she would see Candy die then let him take her away. Upstairs, the Brood then turn their attention to the petrified Candy who runs and locks herself in the closet room in the attic, but they break through the door to grab at her. Frank attacks Nola and strangles her to death with his bare hands to save Candy when he hears the noises coming from the attic. When Nola stops breathing, all is suddenly silent.Frank goes upstairs to the attic to find all the Brood dead outside the room where Candy locked herself in, realizing that the Brood died without their mother's connection. Raglan is also dead nearby having been beaten to death and lying next to a few of the Brood he managed to kill before being overwhelmed. Candy is quivering in a corner of the room and Frank enters picks her up and tells her that he is taking her home. As Frank drives home with Candy, she seems to have withdrawn into a state of shock and cannot speak. Frank doesn't notice two raised lumps on her left arm... signs of her inner rage. The welts suggests that eventually like mother, like daughter...\n",
      "Tags: ['cult', 'psychedelic', 'murder', 'violence']\n",
      "--------------------------------------------------\n",
      "Candidate 5:\n",
      "Title: Little Caesar\n",
      "Plot: Small-time Italian-American criminals Caesar Enrico \"Rico\" Bandello (Edward G. Robinson) and his friend Joe Massara (Douglas Fairbanks, Jr.) move from New York to Chicago to seek their fortunes. Rico joins the gang of Sam Vettori (Stanley Fields), while Joe wants to be a dancer. Olga (Glenda Farrell) becomes his dance partner and girlfriend at the local taxi dance club.Joe tries to drift away from the gang and its activities including running several speakeasys and illegal gambling casinos, but Rico (whom the gang now refers to by his nickname 'Little Caesar') makes him participate in the robbery of the nightclub where he works. Despite orders from underworld overlord \"Big Boy\" (Sidney Blackmer) to all his men to avoid bloodshed, Rico guns down crusading police crime commissioner Alvin McClure during the robbery, with Joe as an aghast witness.Rico accuses Sam of becoming soft and seizes control of his organization. Rival boss \"Little Arnie\" Storch (Maurice Black) tries to have Rico killed, but Rico is only grazed by a bullet during a drive-by shooting. Rico and his gunmen pay Little Arnie a visit, after which Arnie hastily departs for Detroit. The Big Boy eventually gives Rico control of all of Chicago's Northside.Some months later, Rico becomes concerned that Joe knows too much about him. He warns Joe that he must forget about Olga, and join him in a life of crime. Rico threatens to kill both Joe and Olga unless he accedes, but Joe refuses to give in. Olga calls Police Sergeant Flaherty and tells him Joe is ready to talk, just before Rico and his henchman Otero (George E. Stone) come calling. Rico finds, to his surprise, that he is unable to take his friend's life. When Otero tries to do the job himself, Rico wrestles the gun away from him, though not before Joe is wounded. Hearing the shot, Flaherty and another cop give chase and kill Otero. With the information provided by Joe, Flaherty proceeds to crush Rico's organization.Desperate and alone, Rico retreats to the gutter from which he sprang. A few weeks later, while hiding in a flophouse, he becomes enraged when he learns that Flaherty has called him a coward in the newspaper. He foolishly telephones the cop to announce he is coming for him. The call is traced to the phone booth where Rico is. He runs from the police and hides behind a large billboard. Refusing to surrender, Flaherty personally shoots at the billboard with a tommy gun. Ironically, the billboard shows an advertisement featuring dancers Joe and Olga. The police walk around the billboard to find Rico dying on the ground who with his last breath mutters, \"Mother of mercy... is this the end of Rico?\"\n",
      "Tags: ['violence']\n",
      "--------------------------------------------------\n"
     ]
    }
   ],
   "source": [
    "print(\"Similar plots by TF-IDF:\\n\")\n",
    "print(\"Author's title:\", my_title)\n",
    "print(\"Author's plot:\", my_plot)\n",
    "print(\"-\" * 50)\n",
    "for idx in cosine_similarity(normalize(my_plot_tfidf)[0], train_tf_norm, k=3):\n",
    "    print(f'Candidate {idx}:')\n",
    "    title = train_set[idx].title\n",
    "    print('Title:', title)\n",
    "    plot = train_set[idx].synopsis_original\n",
    "    print('Plot:', plot)\n",
    "    tags = train_set[idx].tags\n",
    "    print('Tags:', tags)\n",
    "    print(\"-\" * 50)"
   ]
  },
  {
   "cell_type": "code",
   "execution_count": 73,
   "metadata": {
    "id": "HqkPfbEvRM4U",
    "scrolled": true
   },
   "outputs": [
    {
     "name": "stdout",
     "output_type": "stream",
     "text": [
      "Similar plots by TF-IDF:\n",
      "\n",
      "Author's title: The Wolf of Wall Street Plot Summary\n",
      "Author's plot: In the early 1990s, Jordan Belfort teamed with his partner Donny Azoff and started brokerage firm Stratton Oakmont. \n",
      "Their company quickly grows from a staff of 20 to a staff of more than 250 and their status in the trading community and Wall Street grows exponentially. \n",
      "So much that companies file their initial public offerings through them. \n",
      "As their status grows, so do the amount of substances they abuse, and so do their lies. \n",
      "They draw attention like no other, throwing lavish parties for their staff when they hit the jackpot on high trades. \n",
      "That ultimately leads to Belfort featured on the cover of Forbes Magazine, being called \"The Wolf Of Wall St.\". \n",
      "With the FBI onto Belfort's trading schemes, he devises new ways to cover his tracks and watch his fortune grow. \n",
      "Belfort ultimately comes up with a scheme to stash their cash in a European bank. \n",
      "But with the FBI watching him like a hawk, how long will Belfort and Azoff be able to maintain their elaborate wealth and luxurious lifestyles?\n",
      "--------------------------------------------------\n",
      "Candidate 0:\n",
      "Title: I tre volti della paura\n",
      "Plot: Note: this synopsis is for the orginal Italian release with the segments in this certain order.Boris Karloff introduces three horror tales of the macabre and the supernatural known as the 'Three Faces of Fear'.THE TELEPHONERosy (Michele Mercier) is an attractive, high-priced Parisian call-girl who returns to her spacious, basement apartment after an evening out when she immediately gets beset by a series of strange phone calls. The caller soon identified himself as Frank, her ex-pimp who has recently escaped from prison. Rosy is terrified for it was her testimony that landed the man in jail. Looking for solace, Rosy phones her lesbian lover Mary (Lynda Alfonsi). The two women have been estranged for some time, but Rosy is certain that she is the only one who can help her. Mary agrees to come over that night. Seconds later, Frank calls again, promising that no matter who she calls for protection, he will have his revenge. Unknown to Rosy, Mary is the caller impersonating Frank. Marry arrives at Rosy's apartment soon after, and does her best to calm Rosy's nerves. She gives the panic-struck woman a tranquillizer and puts her to bed.Later that night as Rosy sleeps, Mary gets up out of bed, and pens a note of confession: she was the one making the strange phone calls when she learned of Franks escape from prison. Knowing that Rosy would call on her for help, she explains that she felt it was her way of coming back into her life after their breakup. While she is busy writing, she fails to notice an intruder in the apartment. This time it is Frank, for real. He creeps up behind Mary and strangles her to death with one of Rosys nylon stockings. The sound of the struggle awaken Rosy and she gasps in fright. The murderous pimp realizes that he just killed the wrong woman, and slowly makes his way to Rosy's bed. However, earlier that night, Rosy had placed a butcher knife under her pillow at Mary's suggestion. Rosy seizes the knife and stabs Frank with it as he's beginning to strangle her. Rosy drops the knife and breaks down in hysteria, surrounded by the two corpses of her former lovers.THE WURDALAKIn 19th Century Russia, Vladimir D'Urfe is a young nobleman on a long trip. During the course of his journey, he finds a beheaded corpse with a knife plunged into its heart. He withdraws the blade and takes it as a souvenir.Later that night, Vladimir stops at a small rural cottage to ask for shelter. He notices several daggers hanging up on one of the walls, and a vacant space that happens to fit the one he has discovered. Vladimir is surprised by the entrance of Giorgio (Glauco Onorato), who explains that the knife belongs to his father, who has not been seen for five days. Giorgio offers a room to the young count, and subsequently introduces him to the rest of the family: his wife (Rika Dialina), their young son Ivan, Giorgio's younger brother Pietro (Massimo Righi), and sister Sdenka (Susy Anderson). It subsequently transpires that they are eagerly anticipating the arrival of their father, Gorcha, as well as the reason for his absence: he has gone to do battle with the outlaw and dreaded wurdalak Ali Beg. Vladimir is confused by the term, and Sdenka explains that a wurdalak is a walking cadaver who feeds on the blood of the living, preferably close friends and family members. Giorgio and Pietro are certain that the corpse Vladimir had discovered is that of Ali Beg, but also realize that there is a strong possibility that their father has been infected by the blood curse too. They warn the count to leave, but he decides to stay and await the old mans return.At the stroke of midnight, Gorcha (Boris Karloff) returns to the cottage. His sour demeanor and unkempt appearance bode the worse, and the two brothers are torn: they realize that it is their duty to kill Gorcha before he feeds on the family, but their love for him makes it difficult to reach a decision. Later that night, both Ivan and Pietro are attacked by Gorcha who drains them of blood, and then flees the cottage. Giorgio stakes and beheads Pietro to prevent him from reviving as a wurdalak. But he is prevented from doing so to Ivan when his wife threatens to commit suicide. Reluntantly, he agrees to bury the child without taking the necessary precautions.That same night, the child rises from his grave and begs to be invited into the cottage. The mother runs to her son's aid, stabbing Giorgio when he attempts to stop her, only to be greeted at the front door by Gorcha. The old man bits and infects his daughter-in-law, who then does the same for her husband. Vladimir and Sdenka flee from the cottage and go on the run and hide out in the ruins of an abandoned cathedral as dawn breaks. Vladimir is optimistic that a long and happy life lies with them. But Sdenka is reluctant to relinquish her family ties. She believes that she is meant to stay with the family.Sdenka's fears about her family are confirmed when that evening, Gorcha and her siblings show up at the abandoned Abby. As Vladimir sleeps, Sdenka is lured into their loving arms where they bite to death. Awakened by her screams, Vladimir rushes to her aid, but the family has already taken her home, forcing the lover to follow suite. The young nobleman finds her, lying motionless on her bed. Sdenka awakens, and a distinct change is visible on her face. No longer caring, Vladimir embraces her, and she bites and infects him too.THE DROP OF WATERIn Victorian London, England, Nurse Helen Chester (Jacqueline Pierreux) is called to a large house to prepare the corpse of an elderly medium for her burial. As she dressed the body, she notices an elaborate diamond ring on its finger. Tempted by greed, Nurse Chester steals it. As she does, a glass tips over, and drops of water begin to splash on the floor. She is also assailed by a fly, no doubt attracted by the odor of the body. Unsettled but pleased by her acquisition, she finishes the job and returns home to her small East End flat.After returning home, Nurse Chester is assailed by strange events. The buzzing fly returns and continues to pester her. Then the lights in her apartment go out, and the sounds of the dripping water continues with maddening regularity. She sees the old womans corpse lying on her bed, and coming towards her. The terrified woman begs for forgiveness, but she ultimately strangles herself, imaging that the medium's hands are gripping her throat.The next morning, the concierge (Harriet White Medin) discovers Nurse Chester's body and calls the police. The investigator on the scene (Gustavo de Nardo) quickly concludes that its a simple case and that Nurse Chester \"died of fright\". The pathologist arrives on the scene to examine the body before it's taken away and he notes that the only sign of violence is a small bruise on her left finger, mostly likely caused when someone pried a ring from her finger. As the doctor makes this observation, the concierge appears distressed, as she has apparently took the ring from the dead Nurse Chester, and is further distracted by the sound of a fly swooping about in the air....Boris Karloff makes a final appearance as Gorcha riding on his horse as he concludes the three tales of fear and tells the viewers to be careful while walking home at night for ghosts and vampires have no fear. The image pulls back to actually reveal him sitting on a prop fake horse with a camera crew and various crewmen moving branches around to simulate the scene of riding through the forest from the Wurdalak segment.\n",
      "Tags: ['cult', 'horror', 'gothic', 'murder', 'atmospheric']\n",
      "--------------------------------------------------\n",
      "Candidate 334:\n",
      "Title: La ragazza che sapeva troppo\n",
      "Plot: Nora Davis (Leticia Roman) is a young, sexually frustrated American woman who journeys to Rome, Italy to visit her elderly Aunt Edith. On the flight from New York to Rome, Nora is befriended by a young man sitting next to her on the plane who offers her a cigarette, and she accepts. He gives her his pack as a token of appreciation. Upon arrival at the airport, the man is arrested for smuggling drugs by custom officials who recognize him as a infamous drug smuggler.Upon arrival later that afternoon at her aunt's apartment, Nora is greeted by Dr. Marcello Bassi (John Saxon). Marcello tells Nora that her aunt is very ill and that she needs absolute quite and rest. After giving her instructions in case of an emergency, the doctor leaves. Nora is obviously smitten with him.Later that same night, as a violent thunderstorm rages, Nora checks on her aunt who suddenly dies of a heart attack. After trying to phone Marcello at his house in which there is no answer, Nora flees from her aunt's apartment. On the street, Nora is attacked by a sailor-dressed purse snatcher. In the ensuing struggle with the thief, Nora is knocked unconscious. A few hours later, she is awakened by a woman's scream. To her horror, Nora looks up to see a young woman collapsing to the ground a few yards from her with a knife in her back. She also sees a strange man crouching over the dead woman's body. Nora then faints.The next morning, the soaked and unconscious Nora is discovered by a passing stranger, who attempts to awaken her by giving her some whisky. Noticing a policeman approaching, the stranger flees. The policeman notices the unconscious Nora and successfully revives her. But upon smelling liquor on her breath, the policeman immediately thinks that she's a drunk sleeping off a binge. Ranting a raving about seeing a woman killed, Nora is shocked when she sees that there is no body anywhere. With no identification on her, Nora is locked away in a hospital's lunatic asylum where she is diagnosed by a doctor an intern residents as suffering from \"delirium tremors\". Nora is soon rescued by Marcello, who happens to notice her while on his rounds.After she is released from the hospital, Nora tries to tell Marcello about what she saw. But he is skeptical, thinking that it was an hallucination brought on by double shock of her aunt's death and the subsequent attack by the purse snatcher. Convinced that she witnessed a murder, Nora plots not to give up and find the murder victim and the killer.At her aunt's funeral, Nora meets with Laura Craven-Torrani (Valentina Cortese) who introduces herself as a friend of her aunt's and she takes Nora to her house for some coffee. As she is going out of the country to visit her husband for a few days, Laura asks Nora to stay and look after her house. Nora is initially reluctant, but accepts the offer.During her first night at the house, Nora discovers a collection of old newspaper clippings. Among the articles is a story about Laura's sister, who had been brutally killed. The murder took place in the same area where she herself was attacked. The article also states that the crime was the latest in a string of so-called 'Alphabet Killings' (the first victim's last name began with the letter 'A', and then the letter 'B', and so on). Nora meets with Marcello the next day to tell him of her find and comes to two theories: first since no body was found, Nora thinks that she had a psychic vision of the killing. She might not have seen an actual killing, but the killing of Laura's sister in her mind's eyes. Second: since the last victim was named Craven, she realizes that the next victim will be somebody whose last name starts with the letter 'D', and her surname is Davis. Marcello again skeptically assures Nora that shes fretting over nothing.Meanwhile, Nora begins to receive crank phone calls. Afraid that her life is in danger, she rigs a crude burglar alarm by setting up a web of strings all along the entrance to the house. That night a policeman, who has been asked by Laura to stop by to see if everything is all right, enters and is attacked by Marcello who has been standing guard outside. The ensuing scuffle ends with the love-struck doctor falling on the burglar trap and breaking his left forefinger.Seeking to distract her from her worries, Marcello takes Nora on a trip to the various tourist sites in Rome. At the end of their day, they return to the Craven house where Nora gets another phone call. The anonymous caller tells her to go to a particular address. That evening, Nora goes to the address, which is a run-down boarding house, and is guided to a vacant room by the sound of a voice. Without realizing it, Nora has been followed by Marcello, and when he suddenly reveals himself, she hurts him once again by scratches his face, thinking him to be the killer. Together, they discover the voice to be emanating from a tape recorder. It warns Nora to leave Rome before she meets the same fate as Laura's sister. Nora and Marcello investigate and discover that the room is leased to a man named Andrea Landini (Dante Di Paolo), whom Nora recognizes as the author of the newspaper article regarding the Alphabet Killer.After several unsuccessful attempts to locate Landini, Marcello and Nora go to the beach for relaxation. Marcello's desires finally erupt and he practically forces himself on Nora. But Nora stops him by telling him that although she is interested in him too, she encourages him to wait for a more appropriate time to consummate their relationship. Upon their arrival back at the Craven house, they are shocked to discover a stranger sitting in the living room. It is Andrea Landini, who had been informed that they were inquiring about him. Landini explains that he became obsessed with finding the Alphabet Killer, and that he collaborated with the police while writing a series of articles about the killings. When the police arrested and convicted a man whom Landini knew to be innocent, he kept on writing articles, using them as a opportunity to criticize the police for jumping to the wrong conclusions. He soon lost his job at the newspaper, but he continued to investigate the matter. Landini also explains that he was the one who tried to revived with her whisky, and he believes her to be the mostly likely target for the killer. Because of this, he has been following her ever since. Though Marcello is distrustful of him, Nora agrees to collaborate with Landini. Nora's teaming with Landini finds them venturing across Rome inquiring about the first two alphabet victims and of their connection to one another. But the results only lead to dead ends.The following day, Nora goes to meet with Landini at his apartment. She is perplexed to find that the apparent sounds of typing are actually emanating from Landinis tape recorder. When she finds a photo of herself labeled 'Fourth Victim', she becomes convinced that he is the killer. However, the matter seems to resolve itself when she finds Landinis body, an apparent suicide, with a note of confession by his side.That same day, Laura returns to Rome from her trip abroad. Nora and Marcello plan to go to America the following morning, and she agrees to spend one more night in the Craven house. Then Nora reads the daily newspaper where the body of a young woman was found, and she recognizes it as the murdered woman she saw that night. After identifying it at the morgue, Nora begins to realize that she may have indeed witnessed the killing after all.That night, when Laura is apparently out, Nora notices that the study door is open. Especially since Laura had earlier remarked on her husband instance that the room be locked at all times. Nora cannot resist the temptation to enter the room. In the study, Nora notices an adjoining door, and s sliver of light shining thought the bottom. Upon opening the door, she sees a man rising uncomfortably from his chair. Nora recognizes him as the same man standing over the dead body of the woman from that night. He then walks towards Nora, and collapses to the floor with a knife in his back. Nora attempts to flee, but is prevented by Laura. No longer acting like the good-natured woman as previously seen, the crazed and wild-eyed Laura confesses to the killings and explains that she just stabbed her husband because of his attempts to turn her over to the police. Laura reveals that the alphabet system is all a hoax meant to cover up the real motivation: the desire to steal her sister's money compelled her to murder. The trill of killing has apparently warped her mind, and Laura is now completely deranged. Before she can kill Nora, Laura is suddenly shot dead by her husband through the study door.In the final comic scene, Nora is happily reunited with Marcello. Marcello asks Nora for a cigarette, but after she gives him one, she is reminded of an important incident. The pack of cigarettes that Nora accepted on the plane to Italy in the opening scene were laced with a marijuana and cocaine combination. On the night of her aunt's death, Nora smoked a few of these cigarettes, and consequently she had interpreted the situation incorrectly. Though she witnessed an actual killing, her blurred memory confused the facts. The man she saw at the scene was Laura's husband, but he was not the killer. He was merely disposing of the body of the woman that Laura stabbed. When Nora comes to realize this, she takes the lighted cigarette away from Marcello and crushes it, saying that it's about time they both gave up smoking. She takes the pack of cigarettes and pitched it over the balcony where they are. The tainted pack of cigarettes are picked up by a passing priest who takes one out to light it up.\n",
      "Tags: ['insanity', 'murder']\n",
      "--------------------------------------------------\n",
      "Candidate 489:\n",
      "Title: A Tale of Two Cities\n",
      "Plot: === Book the First: Recalled to Life ===\n",
      "Dickens's famous opening sentence introduces the universal approach of the book, the French Revolution, and the drama depicted within:\n",
      "It was the best of times, it was the worst of times, it was the age of wisdom, it was the age of foolishness, it was the epoch of belief, it was the epoch of incredulity, it was the season of Light, it was the season of Darkness, it was the spring of hope, it was the winter of despair, we had everything before us, we had nothing before us, we were all going direct to Heaven, we were all going direct the other way—in short, the period was so far like the present period, that some of its noisiest authorities insisted on its being received, for good or for evil, in the superlative degree of comparison only.\n",
      "In 1775, a man flags down the nightly mail-coach on its route from London to Dover. The man is Jerry Cruncher, an employee of Tellson's Bank in London; he carries a message for Jarvis Lorry, a passenger and one of the bank's managers. Mr. Lorry sends Jerry back to deliver a cryptic response to the bank: \"Recalled to Life.\" The message refers to Alexandre Manette, a French physician who has been released from the Bastille after an 18-year imprisonment. Once Mr. Lorry arrives in Dover, he meets with Dr. Manette's daughter Lucie and her governess, Miss Pross. Lucie has believed her father to be dead, and faints at the news that he is alive; Mr. Lorry takes her to France to reunite with him.\n",
      "In the Paris neighborhood of Saint Antoine, Dr. Manette has been given lodgings by his former servant Ernest Defarge and his wife Therese, owners of a wine shop. Mr. Lorry and Lucie find him in a small garret, where he spends much of his time making shoes—a skill he learned in prison, which he uses to distract himself from his thoughts, and which has become an obsession for him. He does not recognize Lucie at first but does eventually see the resemblance to her mother through her blue eyes and long golden hair, a strand of which he found on his sleeve when he was imprisoned. Mr. Lorry and Lucie take him back to England.\n",
      "=== Book the Second: The Golden Thread ===\n",
      "In 1780, French émigré Charles Darnay is on trial for treason against the British Crown. The key witnesses against him are two British spies, John Barsad and Roger Cly, who claim that Darnay gave information about British troops in North America to the French. Barsad states that he would recognize Darnay anywhere, at which point Darnay's defense counsel, Stryver, directs attention to Sydney Carton, a barrister present in the courtroom who looks almost identical to him. With Barsad's eyewitness testimony now discredited, Darnay is acquitted.\n",
      "In Paris, the hated and abusive Marquis St. Evrémonde orders his carriage driven recklessly fast through the crowded streets, hitting and killing the child of a peasant, Gaspard. The Marquis throws a coin to Gaspard to compensate him for his loss, and Defarge comforts the distraught father, having observed the incident. As the Marquis's coach drives off, the coin is flung back into his coach by an unknown hand, enraging the Marquis.\n",
      "Arriving at his country château, the marquis meets with his nephew and heir, Darnay. Out of disgust with his aristocratic family, Darnay has shed his real surname and adopted an anglicized version of his mother's maiden name, D'Aulnais. The following passage records the Marquis' principles of aristocratic superiority:\n",
      "\"Repression is the only lasting philosophy. The dark deference of fear and slavery, my friend,\" observed the Marquis, \"will keep the dogs obedient to the whip, as long as this roof,\" looking up to it, \"shuts out the sky.\"\n",
      "That night, Gaspard, who followed the Marquis to his château by riding on the underside of the carriage, stabs and kills him in his sleep. Gaspard leaves a note on the knife saying, \"Drive him fast to his tomb. This, from JACQUES.\" After nearly a year on the run, he is caught and hanged above the village well.\n",
      "In London, Darnay gets Dr. Manette's permission to wed Lucie; but Carton confesses his love to Lucie as well. Knowing she will not love him in return, Carton promises to \"embrace any sacrifice for you and for those dear to you\". Stryver, the barrister who defended Darnay and with whom Carton has a working relationship, considers proposing marriage to Lucie, but Mr. Lorry talks him out of the idea.\n",
      "On the morning of the marriage, Darnay reveals his real name and family lineage to Dr. Manette, a detail he had been asked to withhold until that day. In consequence, Dr. Manette reverts to his obsessive shoemaking after the couple leave for their honeymoon. He returns to sanity before their return, and the whole incident is kept secret from Lucie. Mr. Lorry and Miss Pross destroy the shoemaking bench and tools, which Dr. Manette had brought with him from Paris.\n",
      "As time passes in England, Lucie and Charles begin to raise a family, a son (who dies in childhood) and a daughter, little Lucie. Mr. Lorry finds a second home and a sort of family with the Darnays. Stryver marries a rich widow with three children and becomes even more insufferable as his ambitions begin to be realized. Carton, even though he seldom visits, is accepted as a close friend of the family and becomes a special favourite of little Lucie.\n",
      "In July 1789, the Defarges help to lead the storming of the Bastille, a symbol of royal tyranny. Defarge enters Dr. Manette's former cell, \"One Hundred and Five, North Tower,\" and searches it thoroughly. Throughout the countryside, local officials and other representatives of the aristocracy are dragged from their homes to be killed, and the St. Evrémonde château is burned to the ground.\n",
      "In 1792, Mr. Lorry decides to travel to Paris to collect important documents from the Tellson's branch in that city and bring them to London for safekeeping against the chaos of the French Revolution. Darnay intercepts a letter written by Gabelle, one of his uncle's servants who has been imprisoned by the revolutionaries, pleading for the Marquis to help secure his release. Without telling his family or revealing his position as the new Marquis, Darnay sets out for Paris.\n",
      "=== Book the Third: The Track of a Storm ===\n",
      "Shortly after Darnay arrives in Paris, he is denounced for being an emigrated aristocrat from France and jailed in La Force Prison. Dr. Manette, Lucie, little Lucie, Jerry, and Miss Pross travel to Paris and meet Mr. Lorry to try to free Darnay. A year and three months pass, and Darnay is finally tried.\n",
      "Dr. Manette, viewed as a hero for his imprisonment in the Bastille, testifies on Darnay's behalf at his trial. Darnay is released, only to be arrested again later that day. A new trial begins on the following day, under new charges brought by the Defarges and a third individual who is soon revealed as Dr. Manette. He had written an account of his imprisonment at the hands of Darnay's father and hidden it in his cell; Defarge found it while searching the cell during the storming of the Bastille.\n",
      "While running errands with Jerry, Miss Pross is amazed to see her long-lost brother Solomon, but he does not want to be recognized in public. Carton suddenly steps forward from the shadows and identifies Solomon as Barsad, one of the spies who tried to frame Darnay for treason at his trial in 1780. Jerry remembers that he has seen Solomon with Cly, the other key witness at the trial and that Cly had faked his death to escape England. By threatening to denounce Solomon to the revolutionary tribunal as a Briton, Carton blackmails him into helping with a plan.\n",
      "At the tribunal, Defarge identifies Darnay as the nephew of the dead Marquis St. Evrémonde and reads Dr. Manette's letter. Defarge had learned Darnay's lineage from Solomon during the latter's visit to the wine shop several years earlier. The letter describes Dr. Manette's imprisonment at the hands of Darnay's father and uncle for trying to report their crimes against a peasant family. Darnay's uncle had become infatuated with a girl, whom he had kidnapped and raped; despite Dr. Manette's attempt to save her, she died. The uncle killed her husband by working him to death, and her father died from a heart attack on being informed of what had happened. Before he died defending the family honour, the brother of the raped peasant had hidden the last member of the family, his younger sister. The Evrémonde brothers imprisoned Dr. Manette after he refused their offer of a bribe to keep quiet. He concludes his letter by condemning the Evrémondes, \"them and their descendants, to the last of their race.\" Dr. Manette is horrified, but he is not allowed to retract his statement. Darnay is sent to the Conciergerie and sentenced to be guillotined the next day.\n",
      "Carton wanders into the Defarges' wine shop, where he overhears Madame Defarge talking about her plans to have both Lucie and little Lucie condemned. Carton discovers that Madame Defarge was the surviving sister of the peasant family savaged by the Evrémondes. At night, when Dr. Manette returns, shattered after spending the day in many failed attempts to save Darnay's life, he falls into an obsessive search for his shoemaking implements. Carton urges Lorry to flee Paris with Lucie, her father, and Little Lucie, asking them to leave as soon as he joins them in the coach.\n",
      "Shortly before the executions are to begin, Solomon sneaks Carton into the prison for a visit with Darnay. The two men trade clothes, and Carton drugs Darnay and has Solomon carry him out. Carton has decided to be executed in his place and has given his own identification papers to Mr. Lorry to present on Darnay's behalf. Following Carton's earlier instructions, the family and Mr. Lorry flee to England with the unconscious Darnay, but not before receiving a note from Carton which allows them to pass the France border.\n",
      "Meanwhile, Madame Defarge, armed with a dagger and pistol, goes to the Manette residence, hoping to apprehend Lucie and little Lucie and bring them in for execution. However, the family is already gone and Miss Pross stays behind to confront and delay Madame Defarge. As the two women struggle, Madame Defarge's pistol discharges, killing her and causing Miss Pross to go permanently deaf from noise and shock.\n",
      "The novel concludes with the guillotining of Carton. As he is waiting to board the tumbril, he is approached by a seamstress, also condemned to death, who mistakes him for Darnay (with whom she had been imprisoned earlier) but realizes the truth once she sees him at close range. Awed by his unselfish courage and sacrifice, she asks to stay close to him and he agrees. Upon their arrival at the guillotine, Carton comforts her, telling her that their ends will be quick but that there is no Time or Trouble \"in the better land where ... [they] will be mercifully sheltered\", and she is able to meet her death in peace. Carton's unspoken last thoughts are prophetic:\n",
      "I see Barsad, and Cly, Defarge, The Vengeance [a lieutenant of Madame Defarge], the Juryman, the Judge, long ranks of the new oppressors who have risen on the destruction of the old, perishing by this retributive instrument, before it shall cease out of its present use. I see a beautiful city and a brilliant people rising from this abyss, and, in their struggles to be truly free, in their triumphs and defeats, through long years to come, I see the evil of this time and of the previous time of which this is the natural birth, gradually making expiation for itself and wearing out.\n",
      "I see the lives for which I lay down my life, peaceful, useful, prosperous and happy, in that England which I shall see no more. I see Her with a child upon her bosom, who bears my name. I see her father, aged and bent, but otherwise restored, and faithful to all men in his healing office, and at peace. I see the good old man [Mr. Lorry], so long their friend, in ten years' time enriching them with all he has, and passing tranquilly to his reward.\n",
      "I see that I hold a sanctuary in their hearts, and in the hearts of their descendants, generations hence. I see her, an old woman, weeping for me on the anniversary of this day. I see her and her husband, their course done, lying side by side in their last earthly bed, and I know that each was not more honoured and held sacred in the other's soul, than I was in the souls of both.\n",
      "I see that child who lay upon her bosom and who bore my name, a man winning his way up in that path of life which once was mine. I see him winning it so well, that my name is made illustrious there by the light of his. I see the blots I threw upon it, faded away. I see him, fore-most of just judges and honoured men, bringing a boy of my name, with a forehead that I know and golden hair, to this place—then fair to look upon, with not a trace of this day's disfigurement—and I hear him tell the child my story, with a tender and a faltering voice.\n",
      "It is a far, far better thing that I do, than I have ever done; it is a far, far better rest that I go to than I have ever known.\n",
      "Tags: ['romantic']\n",
      "--------------------------------------------------\n"
     ]
    }
   ],
   "source": [
    "my_plot_vector = model.infer_vector(plot_preprocessed)\n",
    "print(\"Similar plots by TF-IDF:\\n\")\n",
    "print(\"Author's title:\", my_title)\n",
    "print(\"Author's plot:\", my_plot)\n",
    "print(\"-\" * 50)\n",
    "for idx in model.docvecs.most_similar([vector], topn=3):\n",
    "    idx = idx[0]\n",
    "    print(f'Candidate {idx}:')\n",
    "    title = train_set[idx].title\n",
    "    print('Title:', title)\n",
    "    plot = train_set[idx].synopsis_original\n",
    "    print('Plot:', plot)\n",
    "    tags = train_set[idx].tags\n",
    "    print('Tags:', tags)\n",
    "    print(\"-\" * 50)"
   ]
  },
  {
   "cell_type": "markdown",
   "metadata": {
    "id": "emviGkdqaOQu"
   },
   "source": [
    "### BONUS: Pointwise Mutual Information (1 point)\n",
    "\n",
    "For term-term-matrices we can use positive pointwise mutual information (PPMI or PMI in general). Here the vector dimensions correspond to words rather than documents. \n",
    "PMI normalizes the probability of the co-occurence of two words by their individual occrence probabilities: \n",
    "\n",
    "$$ PMI(w_1,w_2) = log_2 \\frac{P(w_1,w_2)}{P(w_1)P(w_2)} $$\n",
    "\n",
    "Here, $P(x)$ is a an estimate of the probability of word x, which we can calculate directly from a corpus using its frequency in a corpus. $P(w_1,w_2)$ is estimated probability that $w_1$ and $w_2$ co-occur in a corpus. In short, PMI checks if $w_1$ and $w_2$ co-occur more than they occur independently.\n",
    "\n",
    "Then the PMI between a target word and context word: \n",
    "$$ PMI(w_1,c) = log_2 \\frac{P(w_1,c)}{P(w_1)P(c)} $$\n",
    "\n",
    "PMI values range from -inf to +inf. Negative values indicate a co-occurence which is less likely to happen than by chance. As all the associations are computed based on sparse data and the definition of \"unrelated\" words is fuzzy, we usually ignore negative values by replacing them with 0, hence Psitive PMI:\n",
    "$$PPMI(w_1,c)=max(log_2\\frac{P(w_1,c)}{P(w_1)P(c)},0)$$\n",
    "\n",
    "**Your task is to calculate PPMI matrix using the data we have already read in from the previous exercises. You can use a small subset from the training split for this task.** You can get more information and an example from the book [Speech and Language Processing by Daniel Jurafsky and James H. Martin.](https://web.stanford.edu/~jurafsky/slp3/6.pdf)\n"
   ]
  },
  {
   "cell_type": "markdown",
   "metadata": {
    "id": "F0O5BTRtdL6Q"
   },
   "source": [
    "### Task 2.1: Calculating co-occurence counts \n",
    "\n",
    "First, you need to calculate the co-occurence matrix. Use a context window of your choice. "
   ]
  },
  {
   "cell_type": "code",
   "execution_count": null,
   "metadata": {
    "id": "ZW74w9KXYEGc"
   },
   "outputs": [],
   "source": []
  },
  {
   "cell_type": "markdown",
   "metadata": {
    "id": "JkEhLJ1TZNLh"
   },
   "source": [
    "### Task 2.2: Calculate the joint probabilities \n",
    "Using the previously calculated co-occurence counts compute the joint probabilites. "
   ]
  },
  {
   "cell_type": "code",
   "execution_count": null,
   "metadata": {
    "id": "tb49VF_pZMhj"
   },
   "outputs": [],
   "source": []
  },
  {
   "cell_type": "markdown",
   "metadata": {
    "id": "dasfWpBvns3t"
   },
   "source": [
    "### Task 2.3: Calculating PPMI matrix\n",
    "\n",
    "Now when you have calculated the joint probabilities, we can calculate the PPMI values. "
   ]
  },
  {
   "cell_type": "code",
   "execution_count": null,
   "metadata": {
    "id": "F4M28hzGYDLS"
   },
   "outputs": [],
   "source": []
  }
 ],
 "metadata": {
  "colab": {
   "collapsed_sections": [],
   "name": "homework3.ipynb",
   "provenance": []
  },
  "kernelspec": {
   "display_name": "Python 3",
   "language": "python",
   "name": "python3"
  },
  "language_info": {
   "codemirror_mode": {
    "name": "ipython",
    "version": 3
   },
   "file_extension": ".py",
   "mimetype": "text/x-python",
   "name": "python",
   "nbconvert_exporter": "python",
   "pygments_lexer": "ipython3",
   "version": "3.8.8"
  }
 },
 "nbformat": 4,
 "nbformat_minor": 1
}
